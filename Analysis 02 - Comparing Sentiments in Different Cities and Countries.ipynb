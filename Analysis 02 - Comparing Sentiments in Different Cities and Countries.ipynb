{
 "cells": [
  {
   "cell_type": "markdown",
   "metadata": {},
   "source": [
    "## Analysis 02: Comparing Sentiments in Different Cities and Countries"
   ]
  },
  {
   "cell_type": "markdown",
   "metadata": {},
   "source": [
    "##### GETTING THE DATA"
   ]
  },
  {
   "cell_type": "code",
   "execution_count": 49,
   "metadata": {},
   "outputs": [],
   "source": [
    "import pandas as pd\n",
    "\n",
    "data2 = pd.read_csv(r'C:\\Users\\Raheyma Arshad\\Desktop\\Sentimentalized Tweets.csv')\n",
    "del data2['Unnamed: 0']\n",
    "data2 = data2.dropna(subset=['location']).reset_index(drop=True)"
   ]
  },
  {
   "cell_type": "markdown",
   "metadata": {},
   "source": [
    "##### GETTING THE COUNTRY OF EACH TWEET"
   ]
  },
  {
   "cell_type": "code",
   "execution_count": 64,
   "metadata": {},
   "outputs": [],
   "source": [
    "from geopy.geocoders import Nominatim\n",
    "\n",
    "def get_country(x):       \n",
    "    geolocator = Nominatim(user_agent = \"geoapiExercises\")\n",
    "    location = geolocator.geocode(x)\n",
    "    return str(location).rsplit(', ')[-1]\n",
    "\n",
    "locations = data2['location'].unique().tolist()\n",
    "countries = []\n",
    "\n",
    "for location in locations:\n",
    "    try:\n",
    "        countries.append(get_country(location))\n",
    "    except:\n",
    "        countries.append('Country Not Recognized')\n",
    "        \n",
    "dict_1 = dict(zip(locations, countries))\n",
    "data2['Country'] = data2['location'].map(dict_1)\n",
    "data2['Country'] = data2['Country'].apply(lambda x: x.replace('United States of America', 'United States'))\n",
    "data2 = data2[data2.Country != 'None']\n",
    "data2 = data2[data2.Country != 'Country Not recognized']"
   ]
  },
  {
   "cell_type": "markdown",
   "metadata": {},
   "source": [
    "##### SEPARATING COUNTRIES WITH MORE THAN 100 POSITIVE/NEGATIVE/NEUTRAL TWEETS"
   ]
  },
  {
   "cell_type": "code",
   "execution_count": 137,
   "metadata": {},
   "outputs": [],
   "source": [
    "# Putting the country names in a list\n",
    "labels = data2['Country'].unique().tolist()\n",
    "\n",
    "# Creating lists for counts of Positive, Negative and Neutral tweets for each country and keeping them in dataframes\n",
    "positives = []\n",
    "senti_pos = []\n",
    "for label in labels:\n",
    "    country_tweets = data2[data2.Country == label]\n",
    "    country_positive = country_tweets[country_tweets['Predicted Sentiment'] == 'Positive']\n",
    "    positives.append(len(country_positive))\n",
    "    senti_pos.append('Positive')\n",
    "df_positive = pd.DataFrame({'Country': labels, 'Count of Tweets': positives, 'Sentiment': senti_pos})\n",
    "\n",
    "negatives = []\n",
    "senti_neg = []\n",
    "for label in labels:\n",
    "    country_tweets = data2[data2.Country == label]\n",
    "    country_negative = country_tweets[country_tweets['Predicted Sentiment'] == 'Negative']\n",
    "    negatives.append(len(country_negative))\n",
    "    senti_neg.append('Negative')\n",
    "df_negative = pd.DataFrame({'Country': labels, 'Count of Tweets': negatives, 'Sentiment': senti_neg})\n",
    "    \n",
    "neutrals = []\n",
    "senti_neu = []\n",
    "for label in labels:\n",
    "    country_tweets = data2[data2.Country == label]\n",
    "    country_neutral = country_tweets[country_tweets['Predicted Sentiment'] == 'Neutral']\n",
    "    neutrals.append(len(country_neutral))\n",
    "    senti_neu.append('Neutral')\n",
    "df_neutral = pd.DataFrame({'Country': labels, 'Count of Tweets': neutrals, 'Sentiment': senti_neu})\n",
    "\n",
    "# Joining the dataframes of Positive, Negative and Neutral Tweets \n",
    "frames = [df_positive, df_negative, df_neutral]\n",
    "df = pd.concat(frames)\n",
    "\n",
    "# Taking countries with more than 100 tweets in the dataset\n",
    "df_high_counts = df[df['Count of Tweets'] > 100]"
   ]
  },
  {
   "cell_type": "markdown",
   "metadata": {},
   "source": [
    "##### CREATING A GROUPED BAR PLOT "
   ]
  },
  {
   "cell_type": "code",
   "execution_count": 139,
   "metadata": {},
   "outputs": [
    {
     "data": {
      "text/plain": [
       "<seaborn.axisgrid.FacetGrid at 0x246bf9b0ac0>"
      ]
     },
     "execution_count": 139,
     "metadata": {},
     "output_type": "execute_result"
    },
    {
     "data": {
      "image/png": "[encoded data removed]",
      "text/plain": [
       "<Figure size 512.875x432 with 1 Axes>"
      ]
     },
     "metadata": {
      "needs_background": "light"
     },
     "output_type": "display_data"
    }
   ],
   "source": [
    "import seaborn as sns\n",
    "g = sns.catplot(data=df_high_counts, kind = \"bar\", x = \"Country\", y = \"Count of Tweets\", hue=\"Sentiment\", ci=\"sd\", \n",
    "                palette=\"dark\", alpha=.6, height=6)\n",
    "\n",
    "g.despine(left=True)\n",
    "g.set_axis_labels(\"Country\", \"Count of Tweets\")\n",
    "g.set_xticklabels(rotation=90)"
   ]
  },
  {
   "cell_type": "code",
   "execution_count": null,
   "metadata": {},
   "outputs": [],
   "source": []
  }
 ],
 "metadata": {
  "kernelspec": {
   "display_name": "Python 3",
   "language": "python",
   "name": "python3"
  },
  "language_info": {
   "codemirror_mode": {
    "name": "ipython",
    "version": 3
   },
   "file_extension": ".py",
   "mimetype": "text/x-python",
   "name": "python",
   "nbconvert_exporter": "python",
   "pygments_lexer": "ipython3",
   "version": "3.8.3"
  }
 },
 "nbformat": 4,
 "nbformat_minor": 4
}
