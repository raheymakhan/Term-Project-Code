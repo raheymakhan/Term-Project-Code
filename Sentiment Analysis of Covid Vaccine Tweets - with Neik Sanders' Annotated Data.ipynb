{
 "cells": [
  {
   "cell_type": "code",
   "execution_count": 82,
   "metadata": {},
   "outputs": [],
   "source": [
    "# SETTING UP THE TWITTER API\n",
    "\n",
    "import os\n",
    "import tweepy as tw\n",
    "import pandas as pd\n",
    "\n",
    "consumer_key = 'qWaI6kizU7SAcRNc6EnnoNChq'\n",
    "consumer_secret = 'xumE7NgIZMiLCUXFeEl0pr3zhsuqdLvOPB0tG94HBQ8PgP2vsK'\n",
    "access_token = '2747565082-8g1OYC9aFI4NxRInAV5ArxV1te4V6alDLHlQuNn'\n",
    "access_token_secret = 'rDMmFApw3H5vL5KqVRxwRKdmJCkRdmrqjG8CCfmVroNKV'\n",
    "\n",
    "auth = tw.OAuthHandler(consumer_key, consumer_secret)\n",
    "auth.set_access_token(access_token, access_token_secret)\n",
    "api = tw.API(auth)"
   ]
  },
  {
   "cell_type": "code",
   "execution_count": 83,
   "metadata": {},
   "outputs": [],
   "source": [
    "# PREPARING THE TRAINING DATASET (NIEK SANDERS' CORPUS OF OVER 5000 HAND-CLASSIFIED TWEETS)\n",
    "\n",
    "# Storing training data with twitter ids and sentiments from Github in a CSV file.\n",
    "import requests\n",
    "\n",
    "url = 'https://raw.githubusercontent.com/karanluthra/twitter-sentiment-training/master/corpus.csv'\n",
    "res = requests.get(url, allow_redirects=True)\n",
    "with open(r'C:/Users/Raheyma Arshad/Desktop/Training IDs.csv','wb') as file:\n",
    "    file.write(res.content)\n",
    "\n",
    "# Opening the csv file as a pandas dataframe.     \n",
    "train_ids_df = pd.read_csv(r'C:/Users/Raheyma Arshad/Desktop/Training IDs.csv', header = None)\n",
    "del train_ids_df[0]\n",
    "train_ids_df = train_ids_df.rename(columns={1: \"Sentiment\", 2: \"ID\"})\n",
    "\n",
    "# Storing the twitter ids in dictionary and list forms.\n",
    "train_ids_dict = train_ids_df.set_index('ID').T.to_dict('list')\n",
    "train_ids = train_ids_df['ID'].tolist()\n",
    "\n",
    "# Defining function to extract the full text of each tweet from twitter id.\n",
    "def train_tweet_text(ids):\n",
    "    tweet_status_list = api.statuses_lookup(ids)\n",
    "    train_dict = {}\n",
    "    for status in tweet_status_list:\n",
    "        train_dict[status.id] = [status.text, train_ids_dict[status.id][0]]\n",
    "    return train_dict\n",
    "\n",
    "# We divide our training tweet ids into batches and run the above function on each batch. (Running on all the tweets ids \n",
    "# together raises error).\n",
    "train_ids_count = len(train_ids)\n",
    "train_batches = (train_ids_count - 1) // 50 + 1\n",
    "train_sentiment_batch =  {}\n",
    "\n",
    "for i in range(train_batches):\n",
    "        train_batch = train_ids[i*50:(i+1)*50]\n",
    "        train_dict= train_tweet_text(train_batch)\n",
    "        train_sentiment_batch.update(train_dict)\n",
    "\n",
    "# Converting the training data dictionary into a pandas dataframe.        \n",
    "training_data = pd.DataFrame.from_dict(train_sentiment_batch, orient='index').reset_index()\n",
    "del training_data['index']\n",
    "training_data = training_data.rename(columns={0: \"Tweet\", 1: \"Sentiment\"})"
   ]
  },
  {
   "cell_type": "code",
   "execution_count": 84,
   "metadata": {},
   "outputs": [
    {
     "data": {
      "text/plain": [
       "<AxesSubplot:xlabel='Sentiment', ylabel='count'>"
      ]
     },
     "execution_count": 84,
     "metadata": {},
     "output_type": "execute_result"
    },
    {
     "data": {
      "image/png": "[encoded data removed]",
      "text/plain": [
       "<Figure size 432x288 with 1 Axes>"
      ]
     },
     "metadata": {
      "needs_background": "light"
     },
     "output_type": "display_data"
    }
   ],
   "source": [
    "# CLEANING AND PREPROCESSING THE TRAINING DATASET\n",
    "\n",
    "import re \n",
    "\n",
    "# Removing links that start with HTTP/HTTPS\n",
    "training_data['Clean Tweet'] = training_data['Tweet'].apply(lambda x: re.sub('https?:\\/\\/(www\\.)?[-a-zA-Z0–9@:%._\\+~#=]{2,256}\\.[a-z]{2,6}\\b([-a-zA-Z0–9@:%_\\+.~#?&//=]*)', '', x))\n",
    "\n",
    "# Removing other URL links\n",
    "training_data['Clean Tweet'] = training_data['Clean Tweet'].apply(lambda x: re.sub('[-a-zA-Z0–9@:%._\\+~#=]{2,256}\\.[a-z]{2,6}\\b([-a-zA-Z0–9@:%_\\+.~#?&//=]*)', '', x))\n",
    "\n",
    "# Lower casing\n",
    "training_data['Clean Tweet'] = training_data['Clean Tweet'].apply(lambda x: \" \".join(x.lower() for x in x.split()))\n",
    "\n",
    "# Removing punctuation\n",
    "training_data['Clean Tweet'] = training_data['Clean Tweet'].str.replace('[^\\w\\s]','')\n",
    "\n",
    "# Removing stopwords\n",
    "from nltk.corpus import stopwords\n",
    "import nltk\n",
    "stop = stopwords.words('english')\n",
    "training_data['Clean Tweet'] = training_data['Clean Tweet'].apply(lambda x: \" \".join(x for x in x.split() if x not in stop))\n",
    "\n",
    "# Lemmatization\n",
    "from textblob import Word\n",
    "training_data['Clean Tweet'] = training_data['Clean Tweet'].apply(lambda x: \" \".join([Word(word).lemmatize() for word in x.split()]))\n",
    "\n",
    "# Plotting the distribution of sentiments in the training dataset\n",
    "import seaborn as sns\n",
    "import matplotlib as plt\n",
    "sns.countplot(training_data['Sentiment'])"
   ]
  },
  {
   "cell_type": "code",
   "execution_count": 85,
   "metadata": {},
   "outputs": [
    {
     "name": "stdout",
     "output_type": "stream",
     "text": [
      "\n",
      " TFIDF-BASED SVM SENTIMENT IDENTIFICATION: \n",
      "\n",
      "                                                  Tweet Sentiment  \\\n",
      "584   iPhone 4S First Weekend Sales Top Four Million...   neutral   \n",
      "2071  Oh how much do I loathe #microsoft??? An hour ...  negative   \n",
      "405   Noticed how @apple has added the like & tweet ...   neutral   \n",
      "1221  Fight: Galaxy Nexus vs. Droid RAZR vs. iPhone ...   neutral   \n",
      "243   @Apple would do better to inform customers pro...  negative   \n",
      "\n",
      "     Predicted Sentiment  \n",
      "584              neutral  \n",
      "2071             neutral  \n",
      "405              neutral  \n",
      "1221             neutral  \n",
      "243              neutral  \n",
      "\n",
      " The accuracy of the TFIDF-based SVM sentiment identification is: 74.96839443742098\n",
      "The f1-score of the TFIDF-based SVM sentiment identification is: 0.5594761578888932\n"
     ]
    },
    {
     "name": "stderr",
     "output_type": "stream",
     "text": [
      "<ipython-input-85-2829efe8315c>:20: SettingWithCopyWarning: \n",
      "A value is trying to be set on a copy of a slice from a DataFrame.\n",
      "Try using .loc[row_indexer,col_indexer] = value instead\n",
      "\n",
      "See the caveats in the documentation: https://pandas.pydata.org/pandas-docs/stable/user_guide/indexing.html#returning-a-view-versus-a-copy\n",
      "  test['Predicted Sentiment'] = svm.predict(test['Clean Tweet'])\n"
     ]
    }
   ],
   "source": [
    "# TRAINING THE TFIDF-BASED SUPPORT VECTOR MACHINE (SVM) MODEL ON THE TRAINING DATASET\n",
    "\n",
    "import sklearn\n",
    "from sklearn.model_selection import train_test_split\n",
    "\n",
    "# Splitting the dataset into train and test sets.\n",
    "train, test = sklearn.model_selection.train_test_split(training_data, train_size=0.8, test_size=0.2)\n",
    "\n",
    "from sklearn.feature_extraction.text import CountVectorizer, TfidfTransformer\n",
    "from sklearn.linear_model import SGDClassifier\n",
    "from sklearn.pipeline import Pipeline\n",
    "\n",
    "pipeline = Pipeline([('vect', CountVectorizer()),\n",
    "                     ('tfidf', TfidfTransformer()),\n",
    "                     ('clf', SGDClassifier(loss='hinge', penalty='l2', alpha=1e-3, random_state=42, max_iter=100, \n",
    "                                           learning_rate='optimal', tol=None))])\n",
    "\n",
    "# Fitting the model on the train set.\n",
    "svm = pipeline.fit(train['Clean Tweet'], train['Sentiment'])\n",
    "test['Predicted Sentiment'] = svm.predict(test['Clean Tweet'])\n",
    "\n",
    "print('\\n', 'TFIDF-BASED SVM SENTIMENT IDENTIFICATION:', '\\n')\n",
    "print(test[['Tweet', 'Sentiment', 'Predicted Sentiment']].head(5))\n",
    "\n",
    "from sklearn.metrics import f1_score, accuracy_score\n",
    "svm_accuracy = accuracy_score(test['Sentiment'], test['Predicted Sentiment'])*100\n",
    "svm_f1 = f1_score(test['Sentiment'], test['Predicted Sentiment'], average='macro')\n",
    "\n",
    "print('\\n', 'The accuracy of the TFIDF-based SVM sentiment identification is:', svm_accuracy)\n",
    "print('The f1-score of the TFIDF-based SVM sentiment identification is:', svm_f1)"
   ]
  },
  {
   "cell_type": "code",
   "execution_count": 86,
   "metadata": {},
   "outputs": [],
   "source": [
    "# PREPARING THE COVID-19 VACCINE TWEETS DATASET (i.e. the dataset that needs to be classified)\n",
    "\n",
    "'''\n",
    "We are using 'snscrape' to collect the tweets.\n",
    "For this package we will have to run the following commands in the command prompt/anaconda prompt of our computers.\n",
    "(This prompt is different from the python environment we are using) The commands are:\n",
    "\n",
    "snscrape twitter-search \"#covid-19vaccine since:2020-09-01 until:2020-09-30\" > tweets1.txt\n",
    "snscrape twitter-search \"#COVID-19Vaccine since:2020-09-01 until:2020-09-30\" > tweets2.txt\n",
    "snscrape twitter-search \"#covidvaccine since:2020-09-01 until:2020-09-30\" > tweets3.txt\n",
    "snscrape twitter-search \"#coronavirusvaccine since:2020-09-01 until:2020-09-30\" > tweets4.txt\n",
    "snscrape twitter-search \"#coronavaccine since:2020-09-01 until:2020-09-30\" > tweets5.txt\n",
    "\n",
    "Each command is run separately in the prompt and returns URL ids for the tweets in a text file.\n",
    "Then we will use the following commands to extract the URL ids and finally the tweet texts from the text files.\n",
    "\n",
    "Reference: https://medium.com/@jcldinco/downloading-historical-tweets-using-tweet-ids-via-snscrape-and-tweepy-5f4ecbf19032\n",
    "'''\n",
    "\n",
    "# Converting the text files into a single pandas dataframe.\n",
    "tweet_url = pd.read_csv(r\"C:\\Users\\Raheyma Arshad\\Desktop\\tweets1.txt\", index_col= None, header = None, names = [\"links\"])\n",
    "tweet_url2 = pd.read_csv(r\"C:\\Users\\Raheyma Arshad\\Desktop\\tweets2.txt\", index_col= None, header = None, names = [\"links\"])\n",
    "tweet_url3 = pd.read_csv(r\"C:\\Users\\Raheyma Arshad\\Desktop\\tweets3.txt\", index_col= None, header = None, names = [\"links\"])\n",
    "tweet_url4 = pd.read_csv(r\"C:\\Users\\Raheyma Arshad\\Desktop\\tweets4.txt\", index_col= None, header = None, names = [\"links\"])\n",
    "tweet_url5 = pd.read_csv(r\"C:\\Users\\Raheyma Arshad\\Desktop\\tweets5.txt\", index_col= None, header = None, names = [\"links\"])\n",
    "\n",
    "tweet_url = tweet_url.append(tweet_url2, ignore_index=True)\n",
    "tweet_url = tweet_url.append(tweet_url3, ignore_index=True)\n",
    "tweet_url = tweet_url.append(tweet_url4, ignore_index=True)\n",
    "tweet_url = tweet_url.append(tweet_url5, ignore_index=True)\n",
    "\n",
    "# Splitting the URLs and getting the id of each tweet.\n",
    "tweet_url['id'] = tweet_url.apply(lambda x: x[\"links\"].split(\"/\")[-1], axis=1)\n",
    "# Saving the tweet ids in a list.\n",
    "ids = tweet_url['id'].tolist()\n",
    "\n",
    "# Defining function to get the text from each tweet.\n",
    "def tweet_text(ids):\n",
    "    tweet_status_list = api.statuses_lookup(ids, tweet_mode= \"extended\")\n",
    "    text = pd.DataFrame()\n",
    "    for status in tweet_status_list:\n",
    "            tweet_text = {\"tweet\":status.full_text}\n",
    "            text = text.append(tweet_text, ignore_index = True)\n",
    "    text.to_csv(r\"C:\\Users\\Raheyma Arshad\\Desktop\\Vaccine Tweets.csv\", mode=\"a\")\n",
    "    \n",
    "# We divide our tweet ids into batches and run the above function on each batch. (Running on all the tweets ids together \n",
    "# raises error)\n",
    "ids_count = len(ids)\n",
    "batches = (ids_count - 1) // 50 + 1\n",
    "\n",
    "for i in range(batches):\n",
    "        batch = ids[i*50:(i+1)*50]\n",
    "        result = tweet_text(batch)"
   ]
  },
  {
   "cell_type": "code",
   "execution_count": 87,
   "metadata": {},
   "outputs": [],
   "source": [
    "# CLEANING AND PREPROCESSING THE TEST DATASET (Same cleaning as the Training Dataset)\n",
    "\n",
    "covid_vaccine_data = pd.read_csv(r\"C:\\Users\\Raheyma Arshad\\Desktop\\Vaccine Tweets.csv\")\n",
    "del covid_vaccine_data['Unnamed: 0']\n",
    "\n",
    "# Removing links that start with HTTP/HTTPS\n",
    "covid_vaccine_data['Clean Tweet'] = covid_vaccine_data['tweet'].apply(lambda x: re.sub('https?:\\/\\/(www\\.)?[-a-zA-Z0–9@:%._\\+~#=]{2,256}\\.[a-z]{2,6}\\b([-a-zA-Z0–9@:%_\\+.~#?&//=]*)', '', x))\n",
    "\n",
    "# Removing other URL links\n",
    "covid_vaccine_data['Clean Tweet'] = covid_vaccine_data['Clean Tweet'].apply(lambda x: re.sub('[-a-zA-Z0–9@:%._\\+~#=]{2,256}\\.[a-z]{2,6}\\b([-a-zA-Z0–9@:%_\\+.~#?&//=]*)', '', x))\n",
    "\n",
    "# Lower casing\n",
    "covid_vaccine_data['Clean Tweet'] = covid_vaccine_data['Clean Tweet'].apply(lambda x: \" \".join(x.lower() for x in x.split()))\n",
    "\n",
    "# Removing punctuation\n",
    "covid_vaccine_data['Clean Tweet'] = covid_vaccine_data['Clean Tweet'].str.replace('[^\\w\\s]','')\n",
    "\n",
    "# Removing stopwords\n",
    "covid_vaccine_data['Clean Tweet'] = covid_vaccine_data['Clean Tweet'].apply(lambda x: \" \".join(x for x in x.split() if x not in stop))\n",
    "\n",
    "# Lemmatization\n",
    "covid_vaccine_data['Clean Tweet'] = covid_vaccine_data['Clean Tweet'].apply(lambda x: \" \".join([Word(word).lemmatize() for word in x.split()]))"
   ]
  },
  {
   "cell_type": "code",
   "execution_count": 88,
   "metadata": {},
   "outputs": [
    {
     "data": {
      "text/plain": [
       "<AxesSubplot:xlabel='Predicted Sentiment', ylabel='count'>"
      ]
     },
     "execution_count": 88,
     "metadata": {},
     "output_type": "execute_result"
    },
    {
     "data": {
      "image/png": "[encoded data removed]",
      "text/plain": [
       "<Figure size 432x288 with 1 Axes>"
      ]
     },
     "metadata": {
      "needs_background": "light"
     },
     "output_type": "display_data"
    }
   ],
   "source": [
    "# USING THE SVM MODEL TO PREDICT SENTIMENTS OF COVID-19 VACCINE TWEETS\n",
    "\n",
    "covid_vaccine_data['Predicted Sentiment'] = svm.predict(covid_vaccine_data['Clean Tweet'])\n",
    "\n",
    "# Plotting the distribution of sentiments in the covid-19 vaccine tweets dataset\n",
    "sns.countplot(covid_vaccine_data['Predicted Sentiment'])"
   ]
  }
 ],
 "metadata": {
  "kernelspec": {
   "display_name": "Python 3",
   "language": "python",
   "name": "python3"
  },
  "language_info": {
   "codemirror_mode": {
    "name": "ipython",
    "version": 3
   },
   "file_extension": ".py",
   "mimetype": "text/x-python",
   "name": "python",
   "nbconvert_exporter": "python",
   "pygments_lexer": "ipython3",
   "version": "3.8.3"
  }
 },
 "nbformat": 4,
 "nbformat_minor": 4
}
