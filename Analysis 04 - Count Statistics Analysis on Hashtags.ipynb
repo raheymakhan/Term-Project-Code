{
 "cells": [
  {
   "cell_type": "markdown",
   "metadata": {},
   "source": [
    "## Analysis 04: Count Statistics Analysis on Hashtags"
   ]
  },
  {
   "cell_type": "markdown",
   "metadata": {},
   "source": [
    "##### GETTING THE DATA"
   ]
  },
  {
   "cell_type": "code",
   "execution_count": 18,
   "metadata": {
    "id": "GAoIFrpkWcC5"
   },
   "outputs": [],
   "source": [
    "import pandas as pd\n",
    "\n",
    "data4 = pd.read_csv(r'C:\\Users\\Raheyma Arshad\\Desktop\\INFO 5731 Term Project\\Vaccine Tweets (Without Location).csv')\n",
    "del data4['Unnamed: 0']\n",
    "\n",
    "# Lowercasing\n",
    "data4['tweet'] = data4['tweet'].str.lower()"
   ]
  },
  {
   "cell_type": "markdown",
   "metadata": {},
   "source": [
    "##### EXTRACTING THE HASHTAGS"
   ]
  },
  {
   "cell_type": "code",
   "execution_count": 19,
   "metadata": {
    "id": "7Xu0AKLiW-fb"
   },
   "outputs": [
    {
     "data": {
      "text/html": [
       "<div>\n",
       "<style scoped>\n",
       "    .dataframe tbody tr th:only-of-type {\n",
       "        vertical-align: middle;\n",
       "    }\n",
       "\n",
       "    .dataframe tbody tr th {\n",
       "        vertical-align: top;\n",
       "    }\n",
       "\n",
       "    .dataframe thead th {\n",
       "        text-align: right;\n",
       "    }\n",
       "</style>\n",
       "<table border=\"1\" class=\"dataframe\">\n",
       "  <thead>\n",
       "    <tr style=\"text-align: right;\">\n",
       "      <th></th>\n",
       "      <th>tweet</th>\n",
       "      <th>hashtags</th>\n",
       "    </tr>\n",
       "  </thead>\n",
       "  <tbody>\n",
       "    <tr>\n",
       "      <th>0</th>\n",
       "      <td>#drfauci #billgates #melindagates #saynotovacc...</td>\n",
       "      <td>[#drfauci, #billgates, #melindagates, #saynoto...</td>\n",
       "    </tr>\n",
       "    <tr>\n",
       "      <th>1</th>\n",
       "      <td>how close are we to having a #covid_19vaccine?...</td>\n",
       "      <td>[#covid_19vaccine?, #issue6, #drpeterdurcan,, ...</td>\n",
       "    </tr>\n",
       "    <tr>\n",
       "      <th>2</th>\n",
       "      <td>#china is inoculating its own population. chin...</td>\n",
       "      <td>[#china, #covid_19vaccine]</td>\n",
       "    </tr>\n",
       "    <tr>\n",
       "      <th>3</th>\n",
       "      <td>contact us for any queries and submission: gas...</td>\n",
       "      <td>[#gastroenterology, #covid19, #covid_19vaccine...</td>\n",
       "    </tr>\n",
       "    <tr>\n",
       "      <th>4</th>\n",
       "      <td>russian sputnik v trials in india to begin soo...</td>\n",
       "      <td>[#russiansputnikvtrials, #russia, #covid_19vac...</td>\n",
       "    </tr>\n",
       "  </tbody>\n",
       "</table>\n",
       "</div>"
      ],
      "text/plain": [
       "                                               tweet  \\\n",
       "0  #drfauci #billgates #melindagates #saynotovacc...   \n",
       "1  how close are we to having a #covid_19vaccine?...   \n",
       "2  #china is inoculating its own population. chin...   \n",
       "3  contact us for any queries and submission: gas...   \n",
       "4  russian sputnik v trials in india to begin soo...   \n",
       "\n",
       "                                            hashtags  \n",
       "0  [#drfauci, #billgates, #melindagates, #saynoto...  \n",
       "1  [#covid_19vaccine?, #issue6, #drpeterdurcan,, ...  \n",
       "2                         [#china, #covid_19vaccine]  \n",
       "3  [#gastroenterology, #covid19, #covid_19vaccine...  \n",
       "4  [#russiansputnikvtrials, #russia, #covid_19vac...  "
      ]
     },
     "execution_count": 19,
     "metadata": {},
     "output_type": "execute_result"
    }
   ],
   "source": [
    "def extract_hashtag(x):\n",
    "    L = [i  for i in x.split() if i.startswith(\"#\")]\n",
    "    return L\n",
    "\n",
    "data4['hashtags'] = data4['tweet'].apply(lambda x: extract_hashtag(x))\n",
    "data4.head()"
   ]
  },
  {
   "cell_type": "markdown",
   "metadata": {},
   "source": [
    "##### COUNTING THE HASHTAGS"
   ]
  },
  {
   "cell_type": "code",
   "execution_count": 20,
   "metadata": {
    "colab": {
     "base_uri": "https://localhost:8080/",
     "height": 419
    },
    "id": "AYihQvGNdnQB",
    "outputId": "42e0ab80-6357-4f32-d266-ef1e108bf9d0"
   },
   "outputs": [
    {
     "data": {
      "text/html": [
       "<div>\n",
       "<style scoped>\n",
       "    .dataframe tbody tr th:only-of-type {\n",
       "        vertical-align: middle;\n",
       "    }\n",
       "\n",
       "    .dataframe tbody tr th {\n",
       "        vertical-align: top;\n",
       "    }\n",
       "\n",
       "    .dataframe thead th {\n",
       "        text-align: right;\n",
       "    }\n",
       "</style>\n",
       "<table border=\"1\" class=\"dataframe\">\n",
       "  <thead>\n",
       "    <tr style=\"text-align: right;\">\n",
       "      <th></th>\n",
       "      <th>hashtag</th>\n",
       "      <th>Number of times</th>\n",
       "    </tr>\n",
       "  </thead>\n",
       "  <tbody>\n",
       "    <tr>\n",
       "      <th>53</th>\n",
       "      <td>#coronavirusvaccine</td>\n",
       "      <td>27423</td>\n",
       "    </tr>\n",
       "    <tr>\n",
       "      <th>207</th>\n",
       "      <td>#covidvaccine</td>\n",
       "      <td>20463</td>\n",
       "    </tr>\n",
       "    <tr>\n",
       "      <th>44</th>\n",
       "      <td>#coronavirus</td>\n",
       "      <td>17666</td>\n",
       "    </tr>\n",
       "    <tr>\n",
       "      <th>17</th>\n",
       "      <td>#covid19</td>\n",
       "      <td>17516</td>\n",
       "    </tr>\n",
       "    <tr>\n",
       "      <th>125</th>\n",
       "      <td>#coronavaccine</td>\n",
       "      <td>15053</td>\n",
       "    </tr>\n",
       "    <tr>\n",
       "      <th>...</th>\n",
       "      <td>...</td>\n",
       "      <td>...</td>\n",
       "    </tr>\n",
       "    <tr>\n",
       "      <th>4710</th>\n",
       "      <td>#stoplyingmaryamnawaz</td>\n",
       "      <td>1</td>\n",
       "    </tr>\n",
       "    <tr>\n",
       "      <th>4711</th>\n",
       "      <td>#alllivesmatter</td>\n",
       "      <td>1</td>\n",
       "    </tr>\n",
       "    <tr>\n",
       "      <th>4712</th>\n",
       "      <td>#pakarmy</td>\n",
       "      <td>1</td>\n",
       "    </tr>\n",
       "    <tr>\n",
       "      <th>4487</th>\n",
       "      <td>#modiatunga</td>\n",
       "      <td>1</td>\n",
       "    </tr>\n",
       "    <tr>\n",
       "      <th>4709</th>\n",
       "      <td>#jildexperience</td>\n",
       "      <td>1</td>\n",
       "    </tr>\n",
       "  </tbody>\n",
       "</table>\n",
       "<p>9530 rows × 2 columns</p>\n",
       "</div>"
      ],
      "text/plain": [
       "                    hashtag  Number of times\n",
       "53      #coronavirusvaccine            27423\n",
       "207           #covidvaccine            20463\n",
       "44             #coronavirus            17666\n",
       "17                 #covid19            17516\n",
       "125          #coronavaccine            15053\n",
       "...                     ...              ...\n",
       "4710  #stoplyingmaryamnawaz                1\n",
       "4711        #alllivesmatter                1\n",
       "4712               #pakarmy                1\n",
       "4487            #modiatunga                1\n",
       "4709        #jildexperience                1\n",
       "\n",
       "[9530 rows x 2 columns]"
      ]
     },
     "execution_count": 20,
     "metadata": {},
     "output_type": "execute_result"
    }
   ],
   "source": [
    "hashtag_counts = {}\n",
    "\n",
    "for hashtag_list in data4['hashtags']:\n",
    "    for hashtag in hashtag_list:\n",
    "        if hashtag in hashtag_counts:\n",
    "            hashtag_counts[hashtag] = hashtag_counts[hashtag] + 1\n",
    "        else:\n",
    "            hashtag_counts[hashtag] = 1\n",
    "        \n",
    "hashtags_df = pd.DataFrame(list(hashtag_counts.items()), columns = ['hashtag','Number of times']) \n",
    "hashtags_df.sort_values('Number of times', inplace=True, ascending=False)\n",
    "hashtags_df"
   ]
  }
 ],
 "metadata": {
  "colab": {
   "name": "Tweets.ipynb",
   "provenance": []
  },
  "kernelspec": {
   "display_name": "Python 3",
   "language": "python",
   "name": "python3"
  },
  "language_info": {
   "codemirror_mode": {
    "name": "ipython",
    "version": 3
   },
   "file_extension": ".py",
   "mimetype": "text/x-python",
   "name": "python",
   "nbconvert_exporter": "python",
   "pygments_lexer": "ipython3",
   "version": "3.8.3"
  }
 },
 "nbformat": 4,
 "nbformat_minor": 1
}
