{
 "cells": [
  {
   "cell_type": "markdown",
   "metadata": {},
   "source": [
    "## Analysis 03: Comparing Sentiments of Famous People with their Followers"
   ]
  },
  {
   "cell_type": "markdown",
   "metadata": {},
   "source": [
    "##### SETTING UP THE TWITTER API"
   ]
  },
  {
   "cell_type": "code",
   "execution_count": 1,
   "metadata": {},
   "outputs": [],
   "source": [
    "import os\n",
    "import tweepy as tw\n",
    "import pandas as pd\n",
    "\n",
    "consumer_key = 'qWaI6kizU7SAcRNc6EnnoNChq'\n",
    "consumer_secret = 'xumE7NgIZMiLCUXFeEl0pr3zhsuqdLvOPB0tG94HBQ8PgP2vsK'\n",
    "access_token = '2747565082-8g1OYC9aFI4NxRInAV5ArxV1te4V6alDLHlQuNn'\n",
    "access_token_secret = 'rDMmFApw3H5vL5KqVRxwRKdmJCkRdmrqjG8CCfmVroNKV'\n",
    "\n",
    "auth = tw.OAuthHandler(consumer_key, consumer_secret)\n",
    "auth.set_access_token(access_token, access_token_secret)\n",
    "api = tw.API(auth, wait_on_rate_limit=True)"
   ]
  },
  {
   "cell_type": "markdown",
   "metadata": {},
   "source": [
    "##### PREPARING THE TRAINING DATASET"
   ]
  },
  {
   "cell_type": "code",
   "execution_count": 3,
   "metadata": {},
   "outputs": [],
   "source": [
    "# Dataset Source: https://colab.research.google.com/drive/1PHv-IRLPCtv7oTcIGbsgZHqrB5LPvB7S\n",
    "\n",
    "training_data = pd.read_csv(r\"C:/Users/Raheyma Arshad/Desktop/INFO 5731 Term Project/reviews.csv\")\n",
    "training_data = training_data[['content', 'score']]\n",
    "training_data.columns = ['Review', 'Sentiment']\n",
    "training_data = training_data.astype({\"Sentiment\": int})\n",
    "\n",
    "def sentiment(x):\n",
    "    if x in [1, 2]:\n",
    "        return 'Negative'\n",
    "    if x == 3:\n",
    "        return 'Neutral'\n",
    "    if x in [4, 5]:\n",
    "        return 'Positive'\n",
    "\n",
    "training_data['Sentiment'] = training_data['Sentiment'].apply(lambda x: sentiment(x))\n",
    "\n",
    "# Cleaning and Data Preprocessing\n",
    "\n",
    "import re \n",
    "from nltk.corpus import stopwords\n",
    "import nltk\n",
    "stop = stopwords.words('english')\n",
    "from textblob import Word\n",
    "\n",
    "training_data['Clean Review'] = training_data['Review'].apply(lambda x: re.sub('https?:\\/\\/(www\\.)?[-a-zA-Z0–9@:%._\\+~#=]{2,256}\\.[a-z]{2,6}\\b([-a-zA-Z0–9@:%_\\+.~#?&//=]*)', '', x))\n",
    "training_data['Clean Review'] = training_data['Clean Review'].apply(lambda x: re.sub('[-a-zA-Z0–9@:%._\\+~#=]{2,256}\\.[a-z]{2,6}\\b([-a-zA-Z0–9@:%_\\+.~#?&//=]*)', '', x))\n",
    "training_data['Clean Review'] = training_data['Clean Review'].apply(lambda x: \" \".join(x.lower() for x in x.split()))\n",
    "training_data['Clean Review'] = training_data['Clean Review'].str.replace('[^\\w\\s]','')\n",
    "training_data['Clean Review'] = training_data['Clean Review'].apply(lambda x: \" \".join(x for x in x.split() if x not in stop))\n",
    "training_data['Clean Review'] = training_data['Clean Review'].apply(lambda x: \" \".join([Word(word).lemmatize() for word in x.split()]))"
   ]
  },
  {
   "cell_type": "markdown",
   "metadata": {},
   "source": [
    "##### TRAINING THE TFIDF-BASED SUPPORT VECTOR MACHINE (SVM) MODEL ON THE TRAINING DATASET"
   ]
  },
  {
   "cell_type": "code",
   "execution_count": 4,
   "metadata": {},
   "outputs": [
    {
     "name": "stderr",
     "output_type": "stream",
     "text": [
      "<ipython-input-4-015852ce9e89>:15: SettingWithCopyWarning: \n",
      "A value is trying to be set on a copy of a slice from a DataFrame.\n",
      "Try using .loc[row_indexer,col_indexer] = value instead\n",
      "\n",
      "See the caveats in the documentation: https://pandas.pydata.org/pandas-docs/stable/user_guide/indexing.html#returning-a-view-versus-a-copy\n",
      "  test['Predicted Sentiment'] = svm.predict(test['Clean Review'])\n"
     ]
    }
   ],
   "source": [
    "import sklearn\n",
    "from sklearn.model_selection import train_test_split\n",
    "train, test = sklearn.model_selection.train_test_split(training_data, train_size=0.8, test_size=0.2)\n",
    "\n",
    "from sklearn.feature_extraction.text import CountVectorizer, TfidfTransformer\n",
    "from sklearn.linear_model import SGDClassifier\n",
    "from sklearn.pipeline import Pipeline\n",
    "\n",
    "pipeline = Pipeline([('vect', CountVectorizer()),\n",
    "                     ('tfidf', TfidfTransformer()),\n",
    "                     ('clf', SGDClassifier(loss='hinge', penalty='l2', alpha=1e-3, random_state=42, max_iter=100, \n",
    "                                           learning_rate='optimal', tol=None))])\n",
    "\n",
    "svm = pipeline.fit(train['Clean Review'], train['Sentiment'])\n",
    "test['Predicted Sentiment'] = svm.predict(test['Clean Review'])"
   ]
  },
  {
   "cell_type": "markdown",
   "metadata": {},
   "source": [
    "##### GETTING THE COVID-19 VACCINE TWEETS ALONG WITH USER IDs OF PEOPLE WHO TWEETED"
   ]
  },
  {
   "cell_type": "code",
   "execution_count": 6,
   "metadata": {},
   "outputs": [
    {
     "name": "stdout",
     "output_type": "stream",
     "text": [
      "Number of covid-19 vaccine tweets extracted: 95107\n"
     ]
    },
    {
     "data": {
      "text/html": [
       "<div>\n",
       "<style scoped>\n",
       "    .dataframe tbody tr th:only-of-type {\n",
       "        vertical-align: middle;\n",
       "    }\n",
       "\n",
       "    .dataframe tbody tr th {\n",
       "        vertical-align: top;\n",
       "    }\n",
       "\n",
       "    .dataframe thead th {\n",
       "        text-align: right;\n",
       "    }\n",
       "</style>\n",
       "<table border=\"1\" class=\"dataframe\">\n",
       "  <thead>\n",
       "    <tr style=\"text-align: right;\">\n",
       "      <th></th>\n",
       "      <th>screen name</th>\n",
       "      <th>tweet</th>\n",
       "    </tr>\n",
       "  </thead>\n",
       "  <tbody>\n",
       "    <tr>\n",
       "      <th>0</th>\n",
       "      <td>pharmanewsintel</td>\n",
       "      <td>Pfizer concludes the Phase 3 study of its #mRN...</td>\n",
       "    </tr>\n",
       "    <tr>\n",
       "      <th>1</th>\n",
       "      <td>TheHansIndiaWeb</td>\n",
       "      <td>Thackeray seeks 'national vaccine distribution...</td>\n",
       "    </tr>\n",
       "    <tr>\n",
       "      <th>2</th>\n",
       "      <td>darrenculbreath</td>\n",
       "      <td>#AstraZeneca’s #COVID-19vaccine shows success:...</td>\n",
       "    </tr>\n",
       "    <tr>\n",
       "      <th>3</th>\n",
       "      <td>MedicircleI</td>\n",
       "      <td>The UK’s vaccine against SARS-CoV-2 shows simi...</td>\n",
       "    </tr>\n",
       "    <tr>\n",
       "      <th>4</th>\n",
       "      <td>GulfTimes_QATAR</td>\n",
       "      <td>#France is expected to loosen its #coronavirus...</td>\n",
       "    </tr>\n",
       "  </tbody>\n",
       "</table>\n",
       "</div>"
      ],
      "text/plain": [
       "       screen name                                              tweet\n",
       "0  pharmanewsintel  Pfizer concludes the Phase 3 study of its #mRN...\n",
       "1  TheHansIndiaWeb  Thackeray seeks 'national vaccine distribution...\n",
       "2  darrenculbreath  #AstraZeneca’s #COVID-19vaccine shows success:...\n",
       "3      MedicircleI  The UK’s vaccine against SARS-CoV-2 shows simi...\n",
       "4  GulfTimes_QATAR  #France is expected to loosen its #coronavirus..."
      ]
     },
     "execution_count": 6,
     "metadata": {},
     "output_type": "execute_result"
    }
   ],
   "source": [
    "'''\n",
    "snscrape twitter-search \"#covid-19vaccine since:2020-08-01 until:2020-11-25\" > trump_tweets1.txt\n",
    "snscrape twitter-search \"#COVID-19Vaccine since:2020-08-01 until:2020-11-25\" > trump_tweets2.txt\n",
    "snscrape twitter-search \"#covidvaccine since:2020-08-01 until:2020-11-25\" > trump_tweets3.txt\n",
    "snscrape twitter-search \"#coronavirusvaccine since:2020-08-01 until:2020-11-25\" > trump_tweets4.txt\n",
    "snscrape twitter-search \"#coronavaccine since:2020-08-01 until:2020-11-25\" > trump_tweets5.txt\n",
    "'''\n",
    "\n",
    "# Converting the text files into a single pandas dataframe.\n",
    "tweet_url = pd.read_csv(r\"C:\\Users\\Raheyma Arshad\\Desktop\\INFO 5731 Term Project\\trump_tweets1.txt\", index_col= None, header = None, names = [\"links\"])\n",
    "tweet_url2 = pd.read_csv(r\"C:\\Users\\Raheyma Arshad\\Desktop\\INFO 5731 Term Project\\trump_tweets2.txt\", index_col= None, header = None, names = [\"links\"])\n",
    "tweet_url3 = pd.read_csv(r\"C:\\Users\\Raheyma Arshad\\Desktop\\INFO 5731 Term Project\\trump_tweets3.txt\", index_col= None, header = None, names = [\"links\"])\n",
    "tweet_url4 = pd.read_csv(r\"C:\\Users\\Raheyma Arshad\\Desktop\\INFO 5731 Term Project\\trump_tweets4.txt\", index_col= None, header = None, names = [\"links\"])\n",
    "tweet_url5 = pd.read_csv(r\"C:\\Users\\Raheyma Arshad\\Desktop\\INFO 5731 Term Project\\trump_tweets5.txt\", index_col= None, header = None, names = [\"links\"])\n",
    "\n",
    "tweet_url = tweet_url.append(tweet_url2, ignore_index=True)\n",
    "tweet_url = tweet_url.append(tweet_url3, ignore_index=True)\n",
    "tweet_url = tweet_url.append(tweet_url4, ignore_index=True)\n",
    "tweet_url = tweet_url.append(tweet_url5, ignore_index=True)\n",
    "\n",
    "# Splitting the URLs and getting the id of each tweet.\n",
    "tweet_url['id'] = tweet_url.apply(lambda x: x[\"links\"].split(\"/\")[-1], axis=1)\n",
    "# Saving the tweet ids in a list.\n",
    "ids = tweet_url['id'].tolist()\n",
    "\n",
    "# Defining function to get the text from each tweet.\n",
    "def tweet_text(ids):\n",
    "    tweet_status_list = api.statuses_lookup(ids, tweet_mode= \"extended\")\n",
    "    text = pd.DataFrame()\n",
    "    for status in tweet_status_list:\n",
    "            tweet_text = {\"tweet\":status.full_text, \"screen\": status.user.screen_name}\n",
    "            text = text.append(tweet_text, ignore_index = True)\n",
    "    text.to_csv(r\"C:\\Users\\Raheyma Arshad\\Desktop\\INFO 5731 Term Project\\Analysis 03 Tweets.csv\", mode=\"a\")\n",
    "    \n",
    "# We divide our tweet ids into batches and run the above function on each batch. (Running on all the tweets ids together \n",
    "# raises error)\n",
    "ids_count = len(ids)\n",
    "batches = (ids_count - 1) // 50 + 1\n",
    "\n",
    "for i in range(batches):\n",
    "        batch = ids[i*50:(i+1)*50]\n",
    "        result = tweet_text(batch)\n",
    "\n",
    "data = pd.read_csv(r\"C:\\Users\\Raheyma Arshad\\Desktop\\INFO 5731 Term Project\\Analysis 03 Tweets.csv\")\n",
    "del data['Unnamed: 0']\n",
    "data = data[data.tweet != 'tweet']\n",
    "print('Number of covid-19 vaccine tweets extracted:', len(data))\n",
    "data.head()"
   ]
  },
  {
   "cell_type": "markdown",
   "metadata": {},
   "source": [
    "### FAMOUS PERSON: DONALD TRUMP"
   ]
  },
  {
   "cell_type": "markdown",
   "metadata": {},
   "source": [
    "##### GETTING SCREEN NAMES OF DONALD TRUMP'S FOLLOWERS AND KEEPING ONLY THEIR TWEETS"
   ]
  },
  {
   "cell_type": "code",
   "execution_count": 45,
   "metadata": {},
   "outputs": [
    {
     "name": "stdout",
     "output_type": "stream",
     "text": [
      "Number of Donald Trump's followers extracted: 17065\n",
      "Covid-19 Vaccine tweets from Donald Trump's followers are:\n"
     ]
    },
    {
     "data": {
      "text/html": [
       "<div>\n",
       "<style scoped>\n",
       "    .dataframe tbody tr th:only-of-type {\n",
       "        vertical-align: middle;\n",
       "    }\n",
       "\n",
       "    .dataframe tbody tr th {\n",
       "        vertical-align: top;\n",
       "    }\n",
       "\n",
       "    .dataframe thead th {\n",
       "        text-align: right;\n",
       "    }\n",
       "</style>\n",
       "<table border=\"1\" class=\"dataframe\">\n",
       "  <thead>\n",
       "    <tr style=\"text-align: right;\">\n",
       "      <th></th>\n",
       "      <th>screen name</th>\n",
       "      <th>tweet</th>\n",
       "      <th>Trump Follower?</th>\n",
       "    </tr>\n",
       "  </thead>\n",
       "  <tbody>\n",
       "    <tr>\n",
       "      <th>15028</th>\n",
       "      <td>AndrewJGord</td>\n",
       "      <td>(9/10) Trump will distribute #Covidvaccine. Cu...</td>\n",
       "      <td>Yes</td>\n",
       "    </tr>\n",
       "    <tr>\n",
       "      <th>17621</th>\n",
       "      <td>CrashLandingDZ</td>\n",
       "      <td>#COVID #CovidVaccine \\nMoi je dis qu’avant la ...</td>\n",
       "      <td>Yes</td>\n",
       "    </tr>\n",
       "    <tr>\n",
       "      <th>26485</th>\n",
       "      <td>BolexTerry</td>\n",
       "      <td>This is really impressive https://t.co/oNWf7bH...</td>\n",
       "      <td>Yes</td>\n",
       "    </tr>\n",
       "    <tr>\n",
       "      <th>45512</th>\n",
       "      <td>CrashLandingDZ</td>\n",
       "      <td>#Russie #CovidVaccine #SpoutnikV \\nJubilation ...</td>\n",
       "      <td>Yes</td>\n",
       "    </tr>\n",
       "    <tr>\n",
       "      <th>50405</th>\n",
       "      <td>Manash43991202</td>\n",
       "      <td>What are you coming to say @WHO @DrTedros?\\n\\n...</td>\n",
       "      <td>Yes</td>\n",
       "    </tr>\n",
       "  </tbody>\n",
       "</table>\n",
       "</div>"
      ],
      "text/plain": [
       "          screen name                                              tweet  \\\n",
       "15028     AndrewJGord  (9/10) Trump will distribute #Covidvaccine. Cu...   \n",
       "17621  CrashLandingDZ  #COVID #CovidVaccine \\nMoi je dis qu’avant la ...   \n",
       "26485      BolexTerry  This is really impressive https://t.co/oNWf7bH...   \n",
       "45512  CrashLandingDZ  #Russie #CovidVaccine #SpoutnikV \\nJubilation ...   \n",
       "50405  Manash43991202  What are you coming to say @WHO @DrTedros?\\n\\n...   \n",
       "\n",
       "      Trump Follower?  \n",
       "15028             Yes  \n",
       "17621             Yes  \n",
       "26485             Yes  \n",
       "45512             Yes  \n",
       "50405             Yes  "
      ]
     },
     "execution_count": 45,
     "metadata": {},
     "output_type": "execute_result"
    }
   ],
   "source": [
    "# Getting screen names of trump's followers\n",
    "\n",
    "trump_follower_ids = []\n",
    "for page in tw.Cursor(api.followers_ids, screen_name = 'POTUS').pages():\n",
    "    trump_follower_ids.extend(page)\n",
    "\n",
    "trump_screen_names = []\n",
    "for id in trump_follower_ids:\n",
    "    try:\n",
    "        user = api.get_user(id)\n",
    "        trump_screen_names.append(user.screen_name)\n",
    "    except tw.TweepError as e:\n",
    "        print(id, str(e))\n",
    "print(\"Number of Donald Trump's followers extracted:\", len(trump_screen_names))\n",
    "    \n",
    "# Keeping tweets of Donald Trump's followers\n",
    "\n",
    "def trump_follower(x):\n",
    "    if x in trump_screen_names:\n",
    "        return 'Yes'\n",
    "    else:\n",
    "        return 'No'\n",
    "\n",
    "data['Trump Follower?'] = data['screen name'].apply(lambda x: trump_follower(x))\n",
    "trump = data[data['Trump Follower?'] == 'Yes']\n",
    "print(\"Covid-19 Vaccine tweets from Donald Trump's followers are:\")\n",
    "trump.head()"
   ]
  },
  {
   "cell_type": "markdown",
   "metadata": {},
   "source": [
    "##### CLEANING AND PREPROCESSING THE TEST DATASET"
   ]
  },
  {
   "cell_type": "code",
   "execution_count": null,
   "metadata": {},
   "outputs": [],
   "source": [
    "trump['Clean Tweet'] = trump['tweet'].apply(lambda x: re.sub('https?:\\/\\/(www\\.)?[-a-zA-Z0–9@:%._\\+~#=]{2,256}\\.[a-z]{2,6}\\b([-a-zA-Z0–9@:%_\\+.~#?&//=]*)', '', x))\n",
    "trump['Clean Tweet'] = trump['Clean Tweet'].apply(lambda x: re.sub('[-a-zA-Z0–9@:%._\\+~#=]{2,256}\\.[a-z]{2,6}\\b([-a-zA-Z0–9@:%_\\+.~#?&//=]*)', '', x))\n",
    "trump['Clean Tweet'] = trump['Clean Tweet'].apply(lambda x: \" \".join(x.lower() for x in x.split()))\n",
    "trump['Clean Tweet'] = trump['Clean Tweet'].str.replace('[^\\w\\s]','')\n",
    "trump['Clean Tweet'] = trump['Clean Tweet'].apply(lambda x: \" \".join(x for x in x.split() if x not in stop))\n",
    "trump['Clean Tweet'] = trump['Clean Tweet'].apply(lambda x: \" \".join([Word(word).lemmatize() for word in x.split()]))"
   ]
  },
  {
   "cell_type": "markdown",
   "metadata": {},
   "source": [
    "##### USING THE SVM MODEL TO PREDICT SENTIMENTS OF DONALD TRUMP'S FOLLOWERS"
   ]
  },
  {
   "cell_type": "code",
   "execution_count": 56,
   "metadata": {},
   "outputs": [
    {
     "name": "stderr",
     "output_type": "stream",
     "text": [
      "<ipython-input-56-51492b039a8e>:1: SettingWithCopyWarning: \n",
      "A value is trying to be set on a copy of a slice from a DataFrame.\n",
      "Try using .loc[row_indexer,col_indexer] = value instead\n",
      "\n",
      "See the caveats in the documentation: https://pandas.pydata.org/pandas-docs/stable/user_guide/indexing.html#returning-a-view-versus-a-copy\n",
      "  trump['Predicted Sentiment'] = svm.predict(trump['Clean Tweet'])\n"
     ]
    },
    {
     "data": {
      "text/html": [
       "<div>\n",
       "<style scoped>\n",
       "    .dataframe tbody tr th:only-of-type {\n",
       "        vertical-align: middle;\n",
       "    }\n",
       "\n",
       "    .dataframe tbody tr th {\n",
       "        vertical-align: top;\n",
       "    }\n",
       "\n",
       "    .dataframe thead th {\n",
       "        text-align: right;\n",
       "    }\n",
       "</style>\n",
       "<table border=\"1\" class=\"dataframe\">\n",
       "  <thead>\n",
       "    <tr style=\"text-align: right;\">\n",
       "      <th></th>\n",
       "      <th>tweet</th>\n",
       "      <th>screen name</th>\n",
       "      <th>Predicted Sentiment</th>\n",
       "    </tr>\n",
       "  </thead>\n",
       "  <tbody>\n",
       "    <tr>\n",
       "      <th>15028</th>\n",
       "      <td>(9/10) Trump will distribute #Covidvaccine. Cu...</td>\n",
       "      <td>AndrewJGord</td>\n",
       "      <td>Positive</td>\n",
       "    </tr>\n",
       "    <tr>\n",
       "      <th>17621</th>\n",
       "      <td>#COVID #CovidVaccine \\nMoi je dis qu’avant la ...</td>\n",
       "      <td>CrashLandingDZ</td>\n",
       "      <td>Positive</td>\n",
       "    </tr>\n",
       "    <tr>\n",
       "      <th>26485</th>\n",
       "      <td>This is really impressive https://t.co/oNWf7bH...</td>\n",
       "      <td>BolexTerry</td>\n",
       "      <td>Positive</td>\n",
       "    </tr>\n",
       "    <tr>\n",
       "      <th>45512</th>\n",
       "      <td>#Russie #CovidVaccine #SpoutnikV \\nJubilation ...</td>\n",
       "      <td>CrashLandingDZ</td>\n",
       "      <td>Neutral</td>\n",
       "    </tr>\n",
       "    <tr>\n",
       "      <th>50405</th>\n",
       "      <td>What are you coming to say @WHO @DrTedros?\\n\\n...</td>\n",
       "      <td>Manash43991202</td>\n",
       "      <td>Positive</td>\n",
       "    </tr>\n",
       "    <tr>\n",
       "      <th>75663</th>\n",
       "      <td>Coronavirus update in USA (23.11.2020)\\n#COVID...</td>\n",
       "      <td>Kimberl46105822</td>\n",
       "      <td>Negative</td>\n",
       "    </tr>\n",
       "  </tbody>\n",
       "</table>\n",
       "</div>"
      ],
      "text/plain": [
       "                                                   tweet      screen name  \\\n",
       "15028  (9/10) Trump will distribute #Covidvaccine. Cu...      AndrewJGord   \n",
       "17621  #COVID #CovidVaccine \\nMoi je dis qu’avant la ...   CrashLandingDZ   \n",
       "26485  This is really impressive https://t.co/oNWf7bH...       BolexTerry   \n",
       "45512  #Russie #CovidVaccine #SpoutnikV \\nJubilation ...   CrashLandingDZ   \n",
       "50405  What are you coming to say @WHO @DrTedros?\\n\\n...   Manash43991202   \n",
       "75663  Coronavirus update in USA (23.11.2020)\\n#COVID...  Kimberl46105822   \n",
       "\n",
       "      Predicted Sentiment  \n",
       "15028            Positive  \n",
       "17621            Positive  \n",
       "26485            Positive  \n",
       "45512             Neutral  \n",
       "50405            Positive  \n",
       "75663            Negative  "
      ]
     },
     "execution_count": 56,
     "metadata": {},
     "output_type": "execute_result"
    },
    {
     "data": {
      "image/png": "[encoded data removed]",
      "text/plain": [
       "<Figure size 432x288 with 1 Axes>"
      ]
     },
     "metadata": {
      "needs_background": "light"
     },
     "output_type": "display_data"
    }
   ],
   "source": [
    "trump['Predicted Sentiment'] = svm.predict(trump['Clean Tweet'])\n",
    "\n",
    "# Plotting the distribution of sentiments in the covid-19 vaccine tweets dataset\n",
    "import seaborn as sns\n",
    "sns.countplot(trump['Predicted Sentiment'])\n",
    "\n",
    "trump[['tweet', 'screen name', 'Predicted Sentiment']]"
   ]
  },
  {
   "cell_type": "markdown",
   "metadata": {},
   "source": [
    "### FAMOUS PERSON: JOE BIDEN"
   ]
  },
  {
   "cell_type": "markdown",
   "metadata": {},
   "source": [
    "##### GETTING SCREEN NAMES OF JOE BIDEN'S FOLLOWERS AND KEEPING ONLY THEIR TWEETS"
   ]
  },
  {
   "cell_type": "code",
   "execution_count": 18,
   "metadata": {},
   "outputs": [
    {
     "name": "stdout",
     "output_type": "stream",
     "text": [
      "Number of Joe Biden's followers extracted: 12396\n",
      "Covid-19 Vaccine tweets from Joe Biden's followers are:\n"
     ]
    },
    {
     "data": {
      "text/html": [
       "<div>\n",
       "<style scoped>\n",
       "    .dataframe tbody tr th:only-of-type {\n",
       "        vertical-align: middle;\n",
       "    }\n",
       "\n",
       "    .dataframe tbody tr th {\n",
       "        vertical-align: top;\n",
       "    }\n",
       "\n",
       "    .dataframe thead th {\n",
       "        text-align: right;\n",
       "    }\n",
       "</style>\n",
       "<table border=\"1\" class=\"dataframe\">\n",
       "  <thead>\n",
       "    <tr style=\"text-align: right;\">\n",
       "      <th></th>\n",
       "      <th>screen name</th>\n",
       "      <th>tweet</th>\n",
       "      <th>Biden Follower?</th>\n",
       "    </tr>\n",
       "  </thead>\n",
       "  <tbody>\n",
       "    <tr>\n",
       "      <th>42142</th>\n",
       "      <td>TelanganaBest</td>\n",
       "      <td>Is 'Centralized' vaccine policy of @ICMRDELHI ...</td>\n",
       "      <td>Yes</td>\n",
       "    </tr>\n",
       "    <tr>\n",
       "      <th>47674</th>\n",
       "      <td>TelanganaBest</td>\n",
       "      <td>@dailystarnews @WHO @DrTedros While the world ...</td>\n",
       "      <td>Yes</td>\n",
       "    </tr>\n",
       "    <tr>\n",
       "      <th>47856</th>\n",
       "      <td>TelanganaBest</td>\n",
       "      <td>#CovidVaccine from #Hyderabad #COVID19  #coron...</td>\n",
       "      <td>Yes</td>\n",
       "    </tr>\n",
       "    <tr>\n",
       "      <th>47875</th>\n",
       "      <td>TelanganaBest</td>\n",
       "      <td>World’s first #CovidVaccine will come from #Hy...</td>\n",
       "      <td>Yes</td>\n",
       "    </tr>\n",
       "    <tr>\n",
       "      <th>82876</th>\n",
       "      <td>ItsAbhijit1997</td>\n",
       "      <td>Madhya Pradesh..\\n\\nTamil nadu cm\\nGive free v...</td>\n",
       "      <td>Yes</td>\n",
       "    </tr>\n",
       "  </tbody>\n",
       "</table>\n",
       "</div>"
      ],
      "text/plain": [
       "          screen name                                              tweet  \\\n",
       "42142   TelanganaBest  Is 'Centralized' vaccine policy of @ICMRDELHI ...   \n",
       "47674   TelanganaBest  @dailystarnews @WHO @DrTedros While the world ...   \n",
       "47856   TelanganaBest  #CovidVaccine from #Hyderabad #COVID19  #coron...   \n",
       "47875   TelanganaBest  World’s first #CovidVaccine will come from #Hy...   \n",
       "82876  ItsAbhijit1997  Madhya Pradesh..\\n\\nTamil nadu cm\\nGive free v...   \n",
       "\n",
       "      Biden Follower?  \n",
       "42142             Yes  \n",
       "47674             Yes  \n",
       "47856             Yes  \n",
       "47875             Yes  \n",
       "82876             Yes  "
      ]
     },
     "execution_count": 18,
     "metadata": {},
     "output_type": "execute_result"
    }
   ],
   "source": [
    "# Getting screen names of biden's followers\n",
    "\n",
    "biden_follower_ids = []\n",
    "for page in tw.Cursor(api.followers_ids, screen_name = 'JoeBiden').pages():\n",
    "    biden_follower_ids.extend(page)\n",
    "\n",
    "biden_screen_names = []\n",
    "for id in biden_follower_ids:\n",
    "    try:\n",
    "        user = api.get_user(id)\n",
    "        biden_screen_names.append(user.screen_name)\n",
    "    except tw.TweepError as e:\n",
    "        print(id, str(e))\n",
    "print(\"Number of Joe Biden's followers extracted:\", len(biden_screen_names))\n",
    "\n",
    "# Keeping tweets of Joe Biden's followers\n",
    "\n",
    "def biden_follower(x):\n",
    "    if x in biden_screen_names:\n",
    "        return 'Yes'\n",
    "    else:\n",
    "        return 'No'\n",
    "\n",
    "data['Biden Follower?'] = data['screen name'].apply(lambda x: biden_follower(x))\n",
    "biden = data[data['Biden Follower?'] == 'Yes']\n",
    "print(\"Covid-19 Vaccine tweets from Joe Biden's followers are:\")\n",
    "biden.head()"
   ]
  },
  {
   "cell_type": "markdown",
   "metadata": {},
   "source": [
    "##### CLEANING AND PREPROCESSING THE TEST DATASET"
   ]
  },
  {
   "cell_type": "code",
   "execution_count": null,
   "metadata": {},
   "outputs": [],
   "source": [
    "biden['Clean Tweet'] = biden['tweet'].apply(lambda x: re.sub('https?:\\/\\/(www\\.)?[-a-zA-Z0–9@:%._\\+~#=]{2,256}\\.[a-z]{2,6}\\b([-a-zA-Z0–9@:%_\\+.~#?&//=]*)', '', x))\n",
    "biden['Clean Tweet'] = biden['Clean Tweet'].apply(lambda x: re.sub('[-a-zA-Z0–9@:%._\\+~#=]{2,256}\\.[a-z]{2,6}\\b([-a-zA-Z0–9@:%_\\+.~#?&//=]*)', '', x))\n",
    "biden['Clean Tweet'] = biden['Clean Tweet'].apply(lambda x: \" \".join(x.lower() for x in x.split()))\n",
    "biden['Clean Tweet'] = biden['Clean Tweet'].str.replace('[^\\w\\s]','')\n",
    "biden['Clean Tweet'] = biden['Clean Tweet'].apply(lambda x: \" \".join(x for x in x.split() if x not in stop))\n",
    "biden['Clean Tweet'] = biden['Clean Tweet'].apply(lambda x: \" \".join([Word(word).lemmatize() for word in x.split()]))"
   ]
  },
  {
   "cell_type": "markdown",
   "metadata": {},
   "source": [
    "##### USING THE SVM MODEL TO PREDICT SENTIMENTS OF JOE BIDEN'S FOLLOWERS"
   ]
  },
  {
   "cell_type": "code",
   "execution_count": 22,
   "metadata": {},
   "outputs": [
    {
     "name": "stderr",
     "output_type": "stream",
     "text": [
      "<ipython-input-22-33d1b2d59136>:1: SettingWithCopyWarning: \n",
      "A value is trying to be set on a copy of a slice from a DataFrame.\n",
      "Try using .loc[row_indexer,col_indexer] = value instead\n",
      "\n",
      "See the caveats in the documentation: https://pandas.pydata.org/pandas-docs/stable/user_guide/indexing.html#returning-a-view-versus-a-copy\n",
      "  biden['Predicted Sentiment'] = svm.predict(biden['Clean Tweet'])\n"
     ]
    },
    {
     "data": {
      "text/html": [
       "<div>\n",
       "<style scoped>\n",
       "    .dataframe tbody tr th:only-of-type {\n",
       "        vertical-align: middle;\n",
       "    }\n",
       "\n",
       "    .dataframe tbody tr th {\n",
       "        vertical-align: top;\n",
       "    }\n",
       "\n",
       "    .dataframe thead th {\n",
       "        text-align: right;\n",
       "    }\n",
       "</style>\n",
       "<table border=\"1\" class=\"dataframe\">\n",
       "  <thead>\n",
       "    <tr style=\"text-align: right;\">\n",
       "      <th></th>\n",
       "      <th>tweet</th>\n",
       "      <th>screen name</th>\n",
       "      <th>Predicted Sentiment</th>\n",
       "    </tr>\n",
       "  </thead>\n",
       "  <tbody>\n",
       "    <tr>\n",
       "      <th>42142</th>\n",
       "      <td>Is 'Centralized' vaccine policy of @ICMRDELHI ...</td>\n",
       "      <td>TelanganaBest</td>\n",
       "      <td>Negative</td>\n",
       "    </tr>\n",
       "    <tr>\n",
       "      <th>47674</th>\n",
       "      <td>@dailystarnews @WHO @DrTedros While the world ...</td>\n",
       "      <td>TelanganaBest</td>\n",
       "      <td>Neutral</td>\n",
       "    </tr>\n",
       "    <tr>\n",
       "      <th>47856</th>\n",
       "      <td>#CovidVaccine from #Hyderabad #COVID19  #coron...</td>\n",
       "      <td>TelanganaBest</td>\n",
       "      <td>Positive</td>\n",
       "    </tr>\n",
       "    <tr>\n",
       "      <th>47875</th>\n",
       "      <td>World’s first #CovidVaccine will come from #Hy...</td>\n",
       "      <td>TelanganaBest</td>\n",
       "      <td>Positive</td>\n",
       "    </tr>\n",
       "    <tr>\n",
       "      <th>82876</th>\n",
       "      <td>Madhya Pradesh..\\n\\nTamil nadu cm\\nGive free v...</td>\n",
       "      <td>ItsAbhijit1997</td>\n",
       "      <td>Negative</td>\n",
       "    </tr>\n",
       "  </tbody>\n",
       "</table>\n",
       "</div>"
      ],
      "text/plain": [
       "                                                   tweet     screen name  \\\n",
       "42142  Is 'Centralized' vaccine policy of @ICMRDELHI ...   TelanganaBest   \n",
       "47674  @dailystarnews @WHO @DrTedros While the world ...   TelanganaBest   \n",
       "47856  #CovidVaccine from #Hyderabad #COVID19  #coron...   TelanganaBest   \n",
       "47875  World’s first #CovidVaccine will come from #Hy...   TelanganaBest   \n",
       "82876  Madhya Pradesh..\\n\\nTamil nadu cm\\nGive free v...  ItsAbhijit1997   \n",
       "\n",
       "      Predicted Sentiment  \n",
       "42142            Negative  \n",
       "47674             Neutral  \n",
       "47856            Positive  \n",
       "47875            Positive  \n",
       "82876            Negative  "
      ]
     },
     "execution_count": 22,
     "metadata": {},
     "output_type": "execute_result"
    },
    {
     "data": {
      "image/png": "[encoded data removed]",
      "text/plain": [
       "<Figure size 432x288 with 1 Axes>"
      ]
     },
     "metadata": {
      "needs_background": "light"
     },
     "output_type": "display_data"
    }
   ],
   "source": [
    "biden['Predicted Sentiment'] = svm.predict(biden['Clean Tweet'])\n",
    "\n",
    "# Plotting the distribution of sentiments in the covid-19 vaccine tweets dataset\n",
    "import seaborn as sns\n",
    "sns.countplot(biden['Predicted Sentiment'])\n",
    "\n",
    "biden[['tweet', 'screen name', 'Predicted Sentiment']]"
   ]
  }
 ],
 "metadata": {
  "kernelspec": {
   "display_name": "Python 3",
   "language": "python",
   "name": "python3"
  },
  "language_info": {
   "codemirror_mode": {
    "name": "ipython",
    "version": 3
   },
   "file_extension": ".py",
   "mimetype": "text/x-python",
   "name": "python",
   "nbconvert_exporter": "python",
   "pygments_lexer": "ipython3",
   "version": "3.8.3"
  }
 },
 "nbformat": 4,
 "nbformat_minor": 4
}
