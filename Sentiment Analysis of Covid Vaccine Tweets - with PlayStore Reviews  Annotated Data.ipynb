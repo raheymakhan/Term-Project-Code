{
 "cells": [
  {
   "cell_type": "markdown",
   "metadata": {},
   "source": [
    "## Sentiment Analysis of Covid Vaccine Tweets - with PlayStore Reviews  Annotated Data"
   ]
  },
  {
   "cell_type": "markdown",
   "metadata": {},
   "source": [
    "##### SETTING UP THE TWITTER API"
   ]
  },
  {
   "cell_type": "code",
   "execution_count": 25,
   "metadata": {},
   "outputs": [],
   "source": [
    "import os\n",
    "import tweepy as tw\n",
    "import pandas as pd\n",
    "\n",
    "consumer_key = 'qWaI6kizU7SAcRNc6EnnoNChq'\n",
    "consumer_secret = 'xumE7NgIZMiLCUXFeEl0pr3zhsuqdLvOPB0tG94HBQ8PgP2vsK'\n",
    "access_token = '2747565082-8g1OYC9aFI4NxRInAV5ArxV1te4V6alDLHlQuNn'\n",
    "access_token_secret = 'rDMmFApw3H5vL5KqVRxwRKdmJCkRdmrqjG8CCfmVroNKV'\n",
    "\n",
    "auth = tw.OAuthHandler(consumer_key, consumer_secret)\n",
    "auth.set_access_token(access_token, access_token_secret)\n",
    "api = tw.API(auth)"
   ]
  },
  {
   "cell_type": "markdown",
   "metadata": {},
   "source": [
    "##### PREPARING THE TRAINING DATASET"
   ]
  },
  {
   "cell_type": "code",
   "execution_count": 26,
   "metadata": {},
   "outputs": [
    {
     "data": {
      "text/plain": [
       "<AxesSubplot:xlabel='Sentiment', ylabel='count'>"
      ]
     },
     "execution_count": 26,
     "metadata": {},
     "output_type": "execute_result"
    },
    {
     "data": {
      "image/png": "[encoded data removed]",
      "text/plain": [
       "<Figure size 432x288 with 1 Axes>"
      ]
     },
     "metadata": {
      "needs_background": "light"
     },
     "output_type": "display_data"
    }
   ],
   "source": [
    "# Dataset Source: https://colab.research.google.com/drive/1PHv-IRLPCtv7oTcIGbsgZHqrB5LPvB7S\n",
    "\n",
    "training_data = pd.read_csv(r\"C:/Users/Raheyma Arshad/Desktop/INFO 5731 Term Project/reviews.csv\")\n",
    "training_data = training_data[['content', 'score']]\n",
    "training_data.columns = ['Review', 'Sentiment']\n",
    "training_data = training_data.astype({\"Sentiment\": int})\n",
    "\n",
    "def sentiment(x):\n",
    "    if x in [1, 2]:\n",
    "        return 'Negative'\n",
    "    if x == 3:\n",
    "        return 'Neutral'\n",
    "    if x in [4, 5]:\n",
    "        return 'Positive'\n",
    "\n",
    "training_data['Sentiment'] = training_data['Sentiment'].apply(lambda x: sentiment(x))\n",
    "\n",
    "# Plotting the distribution of sentiments in the training dataset\n",
    "import seaborn as sns\n",
    "import matplotlib as plt\n",
    "sns.countplot(training_data['Sentiment'])"
   ]
  },
  {
   "cell_type": "markdown",
   "metadata": {},
   "source": [
    "###### CLEANING AND PREPROCESSING THE TRAINING DATASET"
   ]
  },
  {
   "cell_type": "code",
   "execution_count": 177,
   "metadata": {},
   "outputs": [
    {
     "data": {
      "text/html": [
       "<div>\n",
       "<style scoped>\n",
       "    .dataframe tbody tr th:only-of-type {\n",
       "        vertical-align: middle;\n",
       "    }\n",
       "\n",
       "    .dataframe tbody tr th {\n",
       "        vertical-align: top;\n",
       "    }\n",
       "\n",
       "    .dataframe thead th {\n",
       "        text-align: right;\n",
       "    }\n",
       "</style>\n",
       "<table border=\"1\" class=\"dataframe\">\n",
       "  <thead>\n",
       "    <tr style=\"text-align: right;\">\n",
       "      <th></th>\n",
       "      <th>Review</th>\n",
       "      <th>Sentiment</th>\n",
       "      <th>Clean Review</th>\n",
       "    </tr>\n",
       "  </thead>\n",
       "  <tbody>\n",
       "    <tr>\n",
       "      <th>0</th>\n",
       "      <td>Update: After getting a response from the deve...</td>\n",
       "      <td>Negative</td>\n",
       "      <td>update getting response developer would change...</td>\n",
       "    </tr>\n",
       "    <tr>\n",
       "      <th>1</th>\n",
       "      <td>Used it for a fair amount of time without any ...</td>\n",
       "      <td>Negative</td>\n",
       "      <td>used fair amount time without problem suddenly...</td>\n",
       "    </tr>\n",
       "    <tr>\n",
       "      <th>2</th>\n",
       "      <td>Your app sucks now!!!!! Used to be good but no...</td>\n",
       "      <td>Negative</td>\n",
       "      <td>app suck used good doesnt update physically op...</td>\n",
       "    </tr>\n",
       "    <tr>\n",
       "      <th>3</th>\n",
       "      <td>It seems OK, but very basic. Recurring tasks n...</td>\n",
       "      <td>Negative</td>\n",
       "      <td>seems ok basic recurring task need work actual...</td>\n",
       "    </tr>\n",
       "    <tr>\n",
       "      <th>4</th>\n",
       "      <td>Absolutely worthless. This app runs a prohibit...</td>\n",
       "      <td>Negative</td>\n",
       "      <td>absolutely worthless app run prohibitively clu...</td>\n",
       "    </tr>\n",
       "  </tbody>\n",
       "</table>\n",
       "</div>"
      ],
      "text/plain": [
       "                                              Review Sentiment  \\\n",
       "0  Update: After getting a response from the deve...  Negative   \n",
       "1  Used it for a fair amount of time without any ...  Negative   \n",
       "2  Your app sucks now!!!!! Used to be good but no...  Negative   \n",
       "3  It seems OK, but very basic. Recurring tasks n...  Negative   \n",
       "4  Absolutely worthless. This app runs a prohibit...  Negative   \n",
       "\n",
       "                                        Clean Review  \n",
       "0  update getting response developer would change...  \n",
       "1  used fair amount time without problem suddenly...  \n",
       "2  app suck used good doesnt update physically op...  \n",
       "3  seems ok basic recurring task need work actual...  \n",
       "4  absolutely worthless app run prohibitively clu...  "
      ]
     },
     "execution_count": 177,
     "metadata": {},
     "output_type": "execute_result"
    }
   ],
   "source": [
    "import re \n",
    "\n",
    "# Removing links that start with HTTP/HTTPS\n",
    "training_data['Clean Review'] = training_data['Review'].apply(lambda x: re.sub('https?:\\/\\/(www\\.)?[-a-zA-Z0–9@:%._\\+~#=]{2,256}\\.[a-z]{2,6}\\b([-a-zA-Z0–9@:%_\\+.~#?&//=]*)', '', x))\n",
    "\n",
    "# Removing other URL links\n",
    "training_data['Clean Review'] = training_data['Clean Review'].apply(lambda x: re.sub('[-a-zA-Z0–9@:%._\\+~#=]{2,256}\\.[a-z]{2,6}\\b([-a-zA-Z0–9@:%_\\+.~#?&//=]*)', '', x))\n",
    "\n",
    "# Lower casing\n",
    "training_data['Clean Review'] = training_data['Clean Review'].apply(lambda x: \" \".join(x.lower() for x in x.split()))\n",
    "\n",
    "# Removing punctuation\n",
    "training_data['Clean Review'] = training_data['Clean Review'].str.replace('[^\\w\\s]','')\n",
    "\n",
    "# Removing stopwords\n",
    "from nltk.corpus import stopwords\n",
    "import nltk\n",
    "stop = stopwords.words('english')\n",
    "training_data['Clean Review'] = training_data['Clean Review'].apply(lambda x: \" \".join(x for x in x.split() if x not in stop))\n",
    "\n",
    "# Lemmatization\n",
    "from textblob import Word\n",
    "training_data['Clean Review'] = training_data['Clean Review'].apply(lambda x: \" \".join([Word(word).lemmatize() for word in x.split()]))\n",
    "\n",
    "training_data.head()"
   ]
  },
  {
   "cell_type": "markdown",
   "metadata": {},
   "source": [
    "##### TRAINING THE TFIDF-BASED SUPPORT VECTOR MACHINE (SVM) MODEL ON THE TRAINING DATASET"
   ]
  },
  {
   "cell_type": "code",
   "execution_count": 178,
   "metadata": {},
   "outputs": [
    {
     "name": "stdout",
     "output_type": "stream",
     "text": [
      "TFIDF-BASED SVM SENTIMENT IDENTIFICATION: \n",
      "\n",
      "\n",
      " The accuracy of the TFIDF-based SVM sentiment identification is: 63.46031746031746\n",
      "The f1-score of the TFIDF-based SVM sentiment identification is: 0.5731558068355341\n"
     ]
    },
    {
     "name": "stderr",
     "output_type": "stream",
     "text": [
      "<ipython-input-178-0be139c4cd84>:20: SettingWithCopyWarning: \n",
      "A value is trying to be set on a copy of a slice from a DataFrame.\n",
      "Try using .loc[row_indexer,col_indexer] = value instead\n",
      "\n",
      "See the caveats in the documentation: https://pandas.pydata.org/pandas-docs/stable/user_guide/indexing.html#returning-a-view-versus-a-copy\n",
      "  test['Predicted Sentiment'] = svm.predict(test['Clean Review'])\n"
     ]
    },
    {
     "data": {
      "text/html": [
       "<div>\n",
       "<style scoped>\n",
       "    .dataframe tbody tr th:only-of-type {\n",
       "        vertical-align: middle;\n",
       "    }\n",
       "\n",
       "    .dataframe tbody tr th {\n",
       "        vertical-align: top;\n",
       "    }\n",
       "\n",
       "    .dataframe thead th {\n",
       "        text-align: right;\n",
       "    }\n",
       "</style>\n",
       "<table border=\"1\" class=\"dataframe\">\n",
       "  <thead>\n",
       "    <tr style=\"text-align: right;\">\n",
       "      <th></th>\n",
       "      <th>Review</th>\n",
       "      <th>Sentiment</th>\n",
       "      <th>Predicted Sentiment</th>\n",
       "    </tr>\n",
       "  </thead>\n",
       "  <tbody>\n",
       "    <tr>\n",
       "      <th>8235</th>\n",
       "      <td>Im in love with this app! Simple to use , beau...</td>\n",
       "      <td>Positive</td>\n",
       "      <td>Positive</td>\n",
       "    </tr>\n",
       "    <tr>\n",
       "      <th>4310</th>\n",
       "      <td>soo bugy</td>\n",
       "      <td>Neutral</td>\n",
       "      <td>Negative</td>\n",
       "    </tr>\n",
       "    <tr>\n",
       "      <th>5879</th>\n",
       "      <td>I couldn't open the app after I installed it. ...</td>\n",
       "      <td>Positive</td>\n",
       "      <td>Positive</td>\n",
       "    </tr>\n",
       "    <tr>\n",
       "      <th>4005</th>\n",
       "      <td>The game is very buggy, I just bought a reward...</td>\n",
       "      <td>Neutral</td>\n",
       "      <td>Positive</td>\n",
       "    </tr>\n",
       "    <tr>\n",
       "      <th>454</th>\n",
       "      <td>There's a very important feature missing — to ...</td>\n",
       "      <td>Neutral</td>\n",
       "      <td>Neutral</td>\n",
       "    </tr>\n",
       "  </tbody>\n",
       "</table>\n",
       "</div>"
      ],
      "text/plain": [
       "                                                 Review Sentiment  \\\n",
       "8235  Im in love with this app! Simple to use , beau...  Positive   \n",
       "4310                                           soo bugy   Neutral   \n",
       "5879  I couldn't open the app after I installed it. ...  Positive   \n",
       "4005  The game is very buggy, I just bought a reward...   Neutral   \n",
       "454   There's a very important feature missing — to ...   Neutral   \n",
       "\n",
       "     Predicted Sentiment  \n",
       "8235            Positive  \n",
       "4310            Negative  \n",
       "5879            Positive  \n",
       "4005            Positive  \n",
       "454              Neutral  "
      ]
     },
     "execution_count": 178,
     "metadata": {},
     "output_type": "execute_result"
    }
   ],
   "source": [
    "import sklearn\n",
    "from sklearn.model_selection import train_test_split\n",
    "\n",
    "# Splitting the dataset into train and test sets.\n",
    "train, test = sklearn.model_selection.train_test_split(training_data, train_size=0.8, test_size=0.2)\n",
    "\n",
    "from sklearn.feature_extraction.text import CountVectorizer, TfidfTransformer\n",
    "from sklearn.linear_model import SGDClassifier\n",
    "from sklearn.pipeline import Pipeline\n",
    "\n",
    "pipeline = Pipeline([('vect', CountVectorizer()),\n",
    "                     ('tfidf', TfidfTransformer()),\n",
    "                     ('clf', SGDClassifier(loss='hinge', penalty='l2', alpha=1e-3, random_state=42, max_iter=100, \n",
    "                                           learning_rate='optimal', tol=None))])\n",
    "\n",
    "# Fitting the model on the train set.\n",
    "svm = pipeline.fit(train['Clean Review'], train['Sentiment'])\n",
    "test['Predicted Sentiment'] = svm.predict(test['Clean Review'])\n",
    "\n",
    "print('TFIDF-BASED SVM SENTIMENT IDENTIFICATION:', '\\n')\n",
    "\n",
    "from sklearn.metrics import f1_score, accuracy_score\n",
    "svm_accuracy = accuracy_score(test['Sentiment'], test['Predicted Sentiment'])*100\n",
    "svm_f1 = f1_score(test['Sentiment'], test['Predicted Sentiment'], average='macro')\n",
    "\n",
    "print('\\n', 'The accuracy of the TFIDF-based SVM sentiment identification is:', svm_accuracy)\n",
    "print('The f1-score of the TFIDF-based SVM sentiment identification is:', svm_f1)\n",
    "\n",
    "test[['Review', 'Sentiment', 'Predicted Sentiment']].head()"
   ]
  },
  {
   "cell_type": "markdown",
   "metadata": {},
   "source": [
    "##### PREPARING THE COVID-19 VACCINE TWEETS DATASET (i.e. the dataset that needs to be classified)"
   ]
  },
  {
   "cell_type": "code",
   "execution_count": 97,
   "metadata": {},
   "outputs": [],
   "source": [
    "'''\n",
    "We are using 'snscrape' to collect the tweets.\n",
    "For this package we will have to run the following commands in the command prompt/anaconda prompt of our computers.\n",
    "(This prompt is different from the python environment we are using) The commands are:\n",
    "\n",
    "snscrape twitter-search \"#covid-19vaccine since:2020-09-01 until:2020-09-30\" > tweets1.txt\n",
    "snscrape twitter-search \"#COVID-19Vaccine since:2020-09-01 until:2020-09-30\" > tweets2.txt\n",
    "snscrape twitter-search \"#covidvaccine since:2020-09-01 until:2020-09-30\" > tweets3.txt\n",
    "snscrape twitter-search \"#coronavirusvaccine since:2020-09-01 until:2020-09-30\" > tweets4.txt\n",
    "snscrape twitter-search \"#coronavaccine since:2020-09-01 until:2020-09-30\" > tweets5.txt\n",
    "\n",
    "Each command is run separately in the prompt and returns URL ids for the tweets in a text file.\n",
    "Then we will use the following commands to extract the URL ids and finally the tweet texts from the text files.\n",
    "\n",
    "Reference: https://medium.com/@jcldinco/downloading-historical-tweets-using-tweet-ids-via-snscrape-and-tweepy-5f4ecbf19032\n",
    "'''\n",
    "\n",
    "# Converting the text files into a single pandas dataframe.\n",
    "tweet_url = pd.read_csv(r\"C:\\Users\\Raheyma Arshad\\Desktop\\INFO 5731 Term Project\\tweets1.txt\", index_col= None, header = None, names = [\"links\"])\n",
    "tweet_url2 = pd.read_csv(r\"C:\\Users\\Raheyma Arshad\\Desktop\\INFO 5731 Term Project\\tweets2.txt\", index_col= None, header = None, names = [\"links\"])\n",
    "tweet_url3 = pd.read_csv(r\"C:\\Users\\Raheyma Arshad\\Desktop\\INFO 5731 Term Project\\tweets3.txt\", index_col= None, header = None, names = [\"links\"])\n",
    "tweet_url4 = pd.read_csv(r\"C:\\Users\\Raheyma Arshad\\Desktop\\INFO 5731 Term Project\\tweets4.txt\", index_col= None, header = None, names = [\"links\"])\n",
    "tweet_url5 = pd.read_csv(r\"C:\\Users\\Raheyma Arshad\\Desktop\\INFO 5731 Term Project\\tweets5.txt\", index_col= None, header = None, names = [\"links\"])\n",
    "\n",
    "tweet_url = tweet_url.append(tweet_url2, ignore_index=True)\n",
    "tweet_url = tweet_url.append(tweet_url3, ignore_index=True)\n",
    "tweet_url = tweet_url.append(tweet_url4, ignore_index=True)\n",
    "tweet_url = tweet_url.append(tweet_url5, ignore_index=True)\n",
    "\n",
    "# Splitting the URLs and getting the id of each tweet.\n",
    "tweet_url['id'] = tweet_url.apply(lambda x: x[\"links\"].split(\"/\")[-1], axis=1)\n",
    "# Saving the tweet ids in a list.\n",
    "ids = tweet_url['id'].tolist()\n",
    "\n",
    "# Defining function to get the text from each tweet.\n",
    "def tweet_text(ids):\n",
    "    tweet_status_list = api.statuses_lookup(ids, tweet_mode= \"extended\")\n",
    "    text = pd.DataFrame()\n",
    "    for status in tweet_status_list:\n",
    "            tweet_text = {\"tweet\":status.full_text, \"location\": status.user.location}\n",
    "            text = text.append(tweet_text, ignore_index = True)\n",
    "    text.to_csv(r\"C:\\Users\\Raheyma Arshad\\Desktop\\INFO 5731 Term Project\\Vaccine Tweets.csv\", mode=\"a\")\n",
    "    \n",
    "# We divide our tweet ids into batches and run the above function on each batch. (Running on all the tweets ids together \n",
    "# raises error)\n",
    "ids_count = len(ids)\n",
    "batches = (ids_count - 1) // 50 + 1\n",
    "\n",
    "for i in range(batches):\n",
    "        batch = ids[i*50:(i+1)*50]\n",
    "        result = tweet_text(batch)"
   ]
  },
  {
   "cell_type": "markdown",
   "metadata": {},
   "source": [
    "##### CLEANING AND PREPROCESSING THE TEST DATASET (Same cleaning as the Training Dataset)"
   ]
  },
  {
   "cell_type": "code",
   "execution_count": 179,
   "metadata": {},
   "outputs": [
    {
     "data": {
      "text/html": [
       "<div>\n",
       "<style scoped>\n",
       "    .dataframe tbody tr th:only-of-type {\n",
       "        vertical-align: middle;\n",
       "    }\n",
       "\n",
       "    .dataframe tbody tr th {\n",
       "        vertical-align: top;\n",
       "    }\n",
       "\n",
       "    .dataframe thead th {\n",
       "        text-align: right;\n",
       "    }\n",
       "</style>\n",
       "<table border=\"1\" class=\"dataframe\">\n",
       "  <thead>\n",
       "    <tr style=\"text-align: right;\">\n",
       "      <th></th>\n",
       "      <th>location</th>\n",
       "      <th>tweet</th>\n",
       "      <th>Clean Tweet</th>\n",
       "    </tr>\n",
       "  </thead>\n",
       "  <tbody>\n",
       "    <tr>\n",
       "      <th>0</th>\n",
       "      <td>BATTLEFIELD IN GRAND RAPIDS</td>\n",
       "      <td>#DrFauci #BillGates #MelindaGates #SayNoToVacc...</td>\n",
       "      <td>drfauci billgates melindagates saynotovaccines...</td>\n",
       "    </tr>\n",
       "    <tr>\n",
       "      <th>1</th>\n",
       "      <td>Kenya, South Africa, UK</td>\n",
       "      <td>How close are we to having a #COVID_19Vaccine?...</td>\n",
       "      <td>close covid_19vaccine issue6 thengowhisperer m...</td>\n",
       "    </tr>\n",
       "    <tr>\n",
       "      <th>2</th>\n",
       "      <td>NaN</td>\n",
       "      <td>#China is inoculating its own population. Chin...</td>\n",
       "      <td>china inoculating population chinese citizen g...</td>\n",
       "    </tr>\n",
       "    <tr>\n",
       "      <th>3</th>\n",
       "      <td>NaN</td>\n",
       "      <td>Contact us for any queries and submission: gas...</td>\n",
       "      <td>contact u query submission gastroenterologyher...</td>\n",
       "    </tr>\n",
       "    <tr>\n",
       "      <th>4</th>\n",
       "      <td>Guwahati, Assam</td>\n",
       "      <td>Russian Sputnik V trials in India to begin soo...</td>\n",
       "      <td>russian sputnik v trial india begin soon dr re...</td>\n",
       "    </tr>\n",
       "  </tbody>\n",
       "</table>\n",
       "</div>"
      ],
      "text/plain": [
       "                       location  \\\n",
       "0   BATTLEFIELD IN GRAND RAPIDS   \n",
       "1       Kenya, South Africa, UK   \n",
       "2                           NaN   \n",
       "3                           NaN   \n",
       "4               Guwahati, Assam   \n",
       "\n",
       "                                               tweet  \\\n",
       "0  #DrFauci #BillGates #MelindaGates #SayNoToVacc...   \n",
       "1  How close are we to having a #COVID_19Vaccine?...   \n",
       "2  #China is inoculating its own population. Chin...   \n",
       "3  Contact us for any queries and submission: gas...   \n",
       "4  Russian Sputnik V trials in India to begin soo...   \n",
       "\n",
       "                                         Clean Tweet  \n",
       "0  drfauci billgates melindagates saynotovaccines...  \n",
       "1  close covid_19vaccine issue6 thengowhisperer m...  \n",
       "2  china inoculating population chinese citizen g...  \n",
       "3  contact u query submission gastroenterologyher...  \n",
       "4  russian sputnik v trial india begin soon dr re...  "
      ]
     },
     "execution_count": 179,
     "metadata": {},
     "output_type": "execute_result"
    }
   ],
   "source": [
    "covid_vaccine_data = pd.read_csv(r\"C:\\Users\\Raheyma Arshad\\Desktop\\INFO 5731 Term Project\\Vaccine Tweets.csv\")\n",
    "del covid_vaccine_data['Unnamed: 0']\n",
    "covid_vaccine_data = covid_vaccine_data[covid_vaccine_data.tweet != 'tweet']\n",
    "\n",
    "# Removing links that start with HTTP/HTTPS\n",
    "covid_vaccine_data['Clean Tweet'] = covid_vaccine_data['tweet'].apply(lambda x: re.sub('https?:\\/\\/(www\\.)?[-a-zA-Z0–9@:%._\\+~#=]{2,256}\\.[a-z]{2,6}\\b([-a-zA-Z0–9@:%_\\+.~#?&//=]*)', '', x))\n",
    "\n",
    "# Removing other URL links\n",
    "covid_vaccine_data['Clean Tweet'] = covid_vaccine_data['Clean Tweet'].apply(lambda x: re.sub('[-a-zA-Z0–9@:%._\\+~#=]{2,256}\\.[a-z]{2,6}\\b([-a-zA-Z0–9@:%_\\+.~#?&//=]*)', '', x))\n",
    "\n",
    "# Lower casing\n",
    "covid_vaccine_data['Clean Tweet'] = covid_vaccine_data['Clean Tweet'].apply(lambda x: \" \".join(x.lower() for x in x.split()))\n",
    "\n",
    "# Removing punctuation\n",
    "covid_vaccine_data['Clean Tweet'] = covid_vaccine_data['Clean Tweet'].str.replace('[^\\w\\s]','')\n",
    "\n",
    "# Removing stopwords\n",
    "covid_vaccine_data['Clean Tweet'] = covid_vaccine_data['Clean Tweet'].apply(lambda x: \" \".join(x for x in x.split() if x not in stop))\n",
    "\n",
    "# Lemmatization\n",
    "covid_vaccine_data['Clean Tweet'] = covid_vaccine_data['Clean Tweet'].apply(lambda x: \" \".join([Word(word).lemmatize() for word in x.split()]))\n",
    "\n",
    "covid_vaccine_data.head()"
   ]
  },
  {
   "cell_type": "markdown",
   "metadata": {},
   "source": [
    "##### USING THE SVM MODEL TO PREDICT SENTIMENTS OF COVID-19 VACCINE TWEETS"
   ]
  },
  {
   "cell_type": "code",
   "execution_count": 174,
   "metadata": {},
   "outputs": [
    {
     "data": {
      "text/plain": [
       "<AxesSubplot:xlabel='Predicted Sentiment', ylabel='count'>"
      ]
     },
     "execution_count": 174,
     "metadata": {},
     "output_type": "execute_result"
    },
    {
     "data": {
      "image/png": "[encoded data removed]",
      "text/plain": [
       "<Figure size 432x288 with 1 Axes>"
      ]
     },
     "metadata": {
      "needs_background": "light"
     },
     "output_type": "display_data"
    }
   ],
   "source": [
    "covid_vaccine_data['Predicted Sentiment'] = svm.predict(covid_vaccine_data['Clean Tweet'])\n",
    "\n",
    "# Plotting the distribution of sentiments in the covid-19 vaccine tweets dataset\n",
    "sns.countplot(covid_vaccine_data['Predicted Sentiment'])"
   ]
  }
 ],
 "metadata": {
  "kernelspec": {
   "display_name": "Python 3",
   "language": "python",
   "name": "python3"
  },
  "language_info": {
   "codemirror_mode": {
    "name": "ipython",
    "version": 3
   },
   "file_extension": ".py",
   "mimetype": "text/x-python",
   "name": "python",
   "nbconvert_exporter": "python",
   "pygments_lexer": "ipython3",
   "version": "3.8.3"
  }
 },
 "nbformat": 4,
 "nbformat_minor": 4
}
