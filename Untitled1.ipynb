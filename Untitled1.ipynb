{
 "cells": [
  {
   "cell_type": "code",
   "execution_count": 6,
   "metadata": {},
   "outputs": [],
   "source": [
    "import os\n",
    "import tweepy as tw\n",
    "import pandas as pd\n",
    "\n",
    "consumer_key = 'qWaI6kizU7SAcRNc6EnnoNChq'\n",
    "consumer_secret = 'xumE7NgIZMiLCUXFeEl0pr3zhsuqdLvOPB0tG94HBQ8PgP2vsK'\n",
    "access_token = '2747565082-8g1OYC9aFI4NxRInAV5ArxV1te4V6alDLHlQuNn'\n",
    "access_token_secret = 'rDMmFApw3H5vL5KqVRxwRKdmJCkRdmrqjG8CCfmVroNKV'\n",
    "\n",
    "auth = tw.OAuthHandler(consumer_key, consumer_secret)\n",
    "auth.set_access_token(access_token, access_token_secret)\n",
    "api = tw.API(auth, wait_on_rate_limit=False)"
   ]
  },
  {
   "cell_type": "code",
   "execution_count": 11,
   "metadata": {},
   "outputs": [],
   "source": [
    "# Define the first search term and the date_since date as variables\n",
    "search_word1 = \"#covid-19vaccine\"\n",
    "date_since = \"2020-10-01\"\n",
    "\n",
    "# Collect tweets\n",
    "tweets1 = tw.Cursor(api.search, q=search_word1, lang=\"en\", since=date_since).items(100000)\n",
    "\n",
    "# Collect a list of tweets\n",
    "tweets_list1 = [tweet.text for tweet in tweets1]\n",
    "\n",
    "tweets_df = pd.DataFrame(data = tweets_list1, columns = ['tweet'])"
   ]
  },
  {
   "cell_type": "code",
   "execution_count": 14,
   "metadata": {},
   "outputs": [],
   "source": [
    "# Define the first search term and the date_since date as variables\n",
    "search_word2 = \"#COVID-19Vaccine\"\n",
    "\n",
    "# Collect tweets\n",
    "tweets2 = tw.Cursor(api.search, q=search_word2, lang=\"en\", since=date_since).items(100000)\n",
    "\n",
    "# Collect a list of tweets\n",
    "tweets_list2 = [tweet.text for tweet in tweets2]\n",
    "\n",
    "tweets_df2 = pd.DataFrame(data = tweets_list2, columns = ['tweet'])\n",
    "tweets_df = tweets_df.append(tweets_df2, ignore_index=True)"
   ]
  },
  {
   "cell_type": "code",
   "execution_count": 16,
   "metadata": {},
   "outputs": [],
   "source": [
    "# Define the first search term and the date_since date as variables\n",
    "search_word3 = \"#covidvaccine\"\n",
    "\n",
    "# Collect tweets\n",
    "tweets3 = tw.Cursor(api.search, q=search_word3, lang=\"en\", since=date_since).items(100000)\n",
    "\n",
    "# Collect a list of tweets\n",
    "tweets_list3 = [tweet.text for tweet in tweets3]\n",
    "\n",
    "tweets_df3 = pd.DataFrame(data = tweets_list3, columns = ['tweet'])\n",
    "tweets_df = tweets_df.append(tweets_df3, ignore_index=True)"
   ]
  },
  {
   "cell_type": "code",
   "execution_count": 17,
   "metadata": {},
   "outputs": [],
   "source": [
    "# Define the first search term and the date_since date as variables\n",
    "search_word4 = \"#coronavaccine\"\n",
    "\n",
    "# Collect tweets\n",
    "tweets4 = tw.Cursor(api.search, q=search_word4, lang=\"en\", since=date_since).items(100000)\n",
    "\n",
    "# Collect a list of tweets\n",
    "tweets_list4 = [tweet.text for tweet in tweets4]\n",
    "\n",
    "tweets_df4 = pd.DataFrame(data = tweets_list4, columns = ['tweet'])\n",
    "tweets_df = tweets_df.append(tweets_df4, ignore_index=True)"
   ]
  },
  {
   "cell_type": "code",
   "execution_count": 21,
   "metadata": {},
   "outputs": [
    {
     "data": {
      "text/html": [
       "<div>\n",
       "<style scoped>\n",
       "    .dataframe tbody tr th:only-of-type {\n",
       "        vertical-align: middle;\n",
       "    }\n",
       "\n",
       "    .dataframe tbody tr th {\n",
       "        vertical-align: top;\n",
       "    }\n",
       "\n",
       "    .dataframe thead th {\n",
       "        text-align: right;\n",
       "    }\n",
       "</style>\n",
       "<table border=\"1\" class=\"dataframe\">\n",
       "  <thead>\n",
       "    <tr style=\"text-align: right;\">\n",
       "      <th></th>\n",
       "      <th>tweet</th>\n",
       "    </tr>\n",
       "  </thead>\n",
       "  <tbody>\n",
       "    <tr>\n",
       "      <th>0</th>\n",
       "      <td>Centre plans Covid vax rollout with HCWs first...</td>\n",
       "    </tr>\n",
       "    <tr>\n",
       "      <th>1</th>\n",
       "      <td>@PoliticsBloke If you knew the flu vaccine the...</td>\n",
       "    </tr>\n",
       "    <tr>\n",
       "      <th>2</th>\n",
       "      <td>Meanwhile, the #ElectionCommission on Saturday...</td>\n",
       "    </tr>\n",
       "    <tr>\n",
       "      <th>3</th>\n",
       "      <td>Moderna prepares global launch of Covid-19 vac...</td>\n",
       "    </tr>\n",
       "    <tr>\n",
       "      <th>4</th>\n",
       "      <td>Every Indian will get the corona vaccine, says...</td>\n",
       "    </tr>\n",
       "    <tr>\n",
       "      <th>...</th>\n",
       "      <td>...</td>\n",
       "    </tr>\n",
       "    <tr>\n",
       "      <th>928</th>\n",
       "      <td>Shrenik Shah is outlining business strategies ...</td>\n",
       "    </tr>\n",
       "    <tr>\n",
       "      <th>929</th>\n",
       "      <td>RT @HusnaPervez: #Covid vaccine (unapproved) i...</td>\n",
       "    </tr>\n",
       "    <tr>\n",
       "      <th>930</th>\n",
       "      <td>Oxford vaccine producing immune response in ol...</td>\n",
       "    </tr>\n",
       "    <tr>\n",
       "      <th>931</th>\n",
       "      <td>Thieves take $ 1 Million worth of Gloves meant...</td>\n",
       "    </tr>\n",
       "    <tr>\n",
       "      <th>932</th>\n",
       "      <td>Via whatsapp #BiharElections #coronavaccine ht...</td>\n",
       "    </tr>\n",
       "  </tbody>\n",
       "</table>\n",
       "<p>933 rows × 1 columns</p>\n",
       "</div>"
      ],
      "text/plain": [
       "                                                 tweet\n",
       "0    Centre plans Covid vax rollout with HCWs first...\n",
       "1    @PoliticsBloke If you knew the flu vaccine the...\n",
       "2    Meanwhile, the #ElectionCommission on Saturday...\n",
       "3    Moderna prepares global launch of Covid-19 vac...\n",
       "4    Every Indian will get the corona vaccine, says...\n",
       "..                                                 ...\n",
       "928  Shrenik Shah is outlining business strategies ...\n",
       "929  RT @HusnaPervez: #Covid vaccine (unapproved) i...\n",
       "930  Oxford vaccine producing immune response in ol...\n",
       "931  Thieves take $ 1 Million worth of Gloves meant...\n",
       "932  Via whatsapp #BiharElections #coronavaccine ht...\n",
       "\n",
       "[933 rows x 1 columns]"
      ]
     },
     "execution_count": 21,
     "metadata": {},
     "output_type": "execute_result"
    }
   ],
   "source": [
    "tweets_df"
   ]
  },
  {
   "cell_type": "code",
   "execution_count": 20,
   "metadata": {},
   "outputs": [],
   "source": [
    "tweets_df.to_csv(r'C:\\Users\\Raheyma Arshad\\Desktop\\Data.csv')"
   ]
  },
  {
   "cell_type": "code",
   "execution_count": null,
   "metadata": {},
   "outputs": [],
   "source": []
  }
 ],
 "metadata": {
  "kernelspec": {
   "display_name": "Python 3",
   "language": "python",
   "name": "python3"
  },
  "language_info": {
   "codemirror_mode": {
    "name": "ipython",
    "version": 3
   },
   "file_extension": ".py",
   "mimetype": "text/x-python",
   "name": "python",
   "nbconvert_exporter": "python",
   "pygments_lexer": "ipython3",
   "version": "3.8.3"
  }
 },
 "nbformat": 4,
 "nbformat_minor": 4
}
